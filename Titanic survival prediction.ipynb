{
 "cells": [
  {
   "cell_type": "markdown",
   "id": "6b03af2c",
   "metadata": {
    "papermill": {
     "duration": 0.012952,
     "end_time": "2023-10-06T11:05:57.411423",
     "exception": false,
     "start_time": "2023-10-06T11:05:57.398471",
     "status": "completed"
    },
    "tags": []
   },
   "source": [
    "<div style=\"text-align: center;\">\n",
    "  <h1>📚 Importing Required Libraries</h1>\n",
    "</div>"
   ]
  },
  {
   "cell_type": "code",
   "execution_count": 1,
   "id": "4fa494f1",
   "metadata": {
    "execution": {
     "iopub.execute_input": "2023-10-06T11:05:57.438499Z",
     "iopub.status.busy": "2023-10-06T11:05:57.438120Z",
     "iopub.status.idle": "2023-10-06T11:06:00.263231Z",
     "shell.execute_reply": "2023-10-06T11:06:00.261935Z"
    },
    "papermill": {
     "duration": 2.842207,
     "end_time": "2023-10-06T11:06:00.266297",
     "exception": false,
     "start_time": "2023-10-06T11:05:57.424090",
     "status": "completed"
    },
    "tags": []
   },
   "outputs": [],
   "source": [
    "import numpy as np\n",
    "import pandas as pd\n",
    "import matplotlib.pyplot as plt\n",
    "import seaborn as sns\n",
    "from sklearn.model_selection import train_test_split\n",
    "from sklearn.linear_model import LogisticRegression\n",
    "from sklearn.svm import SVC\n",
    "from sklearn.naive_bayes import GaussianNB\n",
    "from sklearn.linear_model import RidgeClassifier\n",
    "from sklearn.neighbors import KNeighborsClassifier\n",
    "\n"
   ]
  },
  {
   "cell_type": "markdown",
   "id": "ba698303",
   "metadata": {
    "papermill": {
     "duration": 0.012467,
     "end_time": "2023-10-06T11:06:00.291583",
     "exception": false,
     "start_time": "2023-10-06T11:06:00.279116",
     "status": "completed"
    },
    "tags": []
   },
   "source": [
    "\n",
    "<div style=\"text-align: center;\">\n",
    "  <h2>🔍 Data Exploration</h2>\n",
    "</div>\n",
    "\n"
   ]
  },
  {
   "cell_type": "markdown",
   "id": "9192cc48",
   "metadata": {
    "papermill": {
     "duration": 0.01211,
     "end_time": "2023-10-06T11:06:00.316052",
     "exception": false,
     "start_time": "2023-10-06T11:06:00.303942",
     "status": "completed"
    },
    "tags": []
   },
   "source": [
    "📂 **Dataset Acquisition**\n"
   ]
  },
  {
   "cell_type": "code",
   "execution_count": 2,
   "id": "064f6e75",
   "metadata": {
    "execution": {
     "iopub.execute_input": "2023-10-06T11:06:00.343127Z",
     "iopub.status.busy": "2023-10-06T11:06:00.342259Z",
     "iopub.status.idle": "2023-10-06T11:06:00.369287Z",
     "shell.execute_reply": "2023-10-06T11:06:00.368029Z"
    },
    "papermill": {
     "duration": 0.043019,
     "end_time": "2023-10-06T11:06:00.371754",
     "exception": false,
     "start_time": "2023-10-06T11:06:00.328735",
     "status": "completed"
    },
    "tags": []
   },
   "outputs": [
    {
     "name": "stdout",
     "output_type": "stream",
     "text": [
      "(418, 12)\n"
     ]
    }
   ],
   "source": [
    "df = pd.read_csv('/kaggle/input/test-file/tested.csv')\n",
    "print(df.shape)\n"
   ]
  },
  {
   "cell_type": "code",
   "execution_count": 3,
   "id": "abc5d6fd",
   "metadata": {
    "execution": {
     "iopub.execute_input": "2023-10-06T11:06:00.398625Z",
     "iopub.status.busy": "2023-10-06T11:06:00.398268Z",
     "iopub.status.idle": "2023-10-06T11:06:00.426418Z",
     "shell.execute_reply": "2023-10-06T11:06:00.425268Z"
    },
    "papermill": {
     "duration": 0.044013,
     "end_time": "2023-10-06T11:06:00.428638",
     "exception": false,
     "start_time": "2023-10-06T11:06:00.384625",
     "status": "completed"
    },
    "tags": []
   },
   "outputs": [
    {
     "data": {
      "text/html": [
       "<div>\n",
       "<style scoped>\n",
       "    .dataframe tbody tr th:only-of-type {\n",
       "        vertical-align: middle;\n",
       "    }\n",
       "\n",
       "    .dataframe tbody tr th {\n",
       "        vertical-align: top;\n",
       "    }\n",
       "\n",
       "    .dataframe thead th {\n",
       "        text-align: right;\n",
       "    }\n",
       "</style>\n",
       "<table border=\"1\" class=\"dataframe\">\n",
       "  <thead>\n",
       "    <tr style=\"text-align: right;\">\n",
       "      <th></th>\n",
       "      <th>PassengerId</th>\n",
       "      <th>Survived</th>\n",
       "      <th>Pclass</th>\n",
       "      <th>Name</th>\n",
       "      <th>Sex</th>\n",
       "      <th>Age</th>\n",
       "      <th>SibSp</th>\n",
       "      <th>Parch</th>\n",
       "      <th>Ticket</th>\n",
       "      <th>Fare</th>\n",
       "      <th>Cabin</th>\n",
       "      <th>Embarked</th>\n",
       "    </tr>\n",
       "  </thead>\n",
       "  <tbody>\n",
       "    <tr>\n",
       "      <th>0</th>\n",
       "      <td>892</td>\n",
       "      <td>0</td>\n",
       "      <td>3</td>\n",
       "      <td>Kelly, Mr. James</td>\n",
       "      <td>male</td>\n",
       "      <td>34.5</td>\n",
       "      <td>0</td>\n",
       "      <td>0</td>\n",
       "      <td>330911</td>\n",
       "      <td>7.8292</td>\n",
       "      <td>NaN</td>\n",
       "      <td>Q</td>\n",
       "    </tr>\n",
       "    <tr>\n",
       "      <th>1</th>\n",
       "      <td>893</td>\n",
       "      <td>1</td>\n",
       "      <td>3</td>\n",
       "      <td>Wilkes, Mrs. James (Ellen Needs)</td>\n",
       "      <td>female</td>\n",
       "      <td>47.0</td>\n",
       "      <td>1</td>\n",
       "      <td>0</td>\n",
       "      <td>363272</td>\n",
       "      <td>7.0000</td>\n",
       "      <td>NaN</td>\n",
       "      <td>S</td>\n",
       "    </tr>\n",
       "    <tr>\n",
       "      <th>2</th>\n",
       "      <td>894</td>\n",
       "      <td>0</td>\n",
       "      <td>2</td>\n",
       "      <td>Myles, Mr. Thomas Francis</td>\n",
       "      <td>male</td>\n",
       "      <td>62.0</td>\n",
       "      <td>0</td>\n",
       "      <td>0</td>\n",
       "      <td>240276</td>\n",
       "      <td>9.6875</td>\n",
       "      <td>NaN</td>\n",
       "      <td>Q</td>\n",
       "    </tr>\n",
       "    <tr>\n",
       "      <th>3</th>\n",
       "      <td>895</td>\n",
       "      <td>0</td>\n",
       "      <td>3</td>\n",
       "      <td>Wirz, Mr. Albert</td>\n",
       "      <td>male</td>\n",
       "      <td>27.0</td>\n",
       "      <td>0</td>\n",
       "      <td>0</td>\n",
       "      <td>315154</td>\n",
       "      <td>8.6625</td>\n",
       "      <td>NaN</td>\n",
       "      <td>S</td>\n",
       "    </tr>\n",
       "    <tr>\n",
       "      <th>4</th>\n",
       "      <td>896</td>\n",
       "      <td>1</td>\n",
       "      <td>3</td>\n",
       "      <td>Hirvonen, Mrs. Alexander (Helga E Lindqvist)</td>\n",
       "      <td>female</td>\n",
       "      <td>22.0</td>\n",
       "      <td>1</td>\n",
       "      <td>1</td>\n",
       "      <td>3101298</td>\n",
       "      <td>12.2875</td>\n",
       "      <td>NaN</td>\n",
       "      <td>S</td>\n",
       "    </tr>\n",
       "    <tr>\n",
       "      <th>5</th>\n",
       "      <td>897</td>\n",
       "      <td>0</td>\n",
       "      <td>3</td>\n",
       "      <td>Svensson, Mr. Johan Cervin</td>\n",
       "      <td>male</td>\n",
       "      <td>14.0</td>\n",
       "      <td>0</td>\n",
       "      <td>0</td>\n",
       "      <td>7538</td>\n",
       "      <td>9.2250</td>\n",
       "      <td>NaN</td>\n",
       "      <td>S</td>\n",
       "    </tr>\n",
       "    <tr>\n",
       "      <th>6</th>\n",
       "      <td>898</td>\n",
       "      <td>1</td>\n",
       "      <td>3</td>\n",
       "      <td>Connolly, Miss. Kate</td>\n",
       "      <td>female</td>\n",
       "      <td>30.0</td>\n",
       "      <td>0</td>\n",
       "      <td>0</td>\n",
       "      <td>330972</td>\n",
       "      <td>7.6292</td>\n",
       "      <td>NaN</td>\n",
       "      <td>Q</td>\n",
       "    </tr>\n",
       "    <tr>\n",
       "      <th>7</th>\n",
       "      <td>899</td>\n",
       "      <td>0</td>\n",
       "      <td>2</td>\n",
       "      <td>Caldwell, Mr. Albert Francis</td>\n",
       "      <td>male</td>\n",
       "      <td>26.0</td>\n",
       "      <td>1</td>\n",
       "      <td>1</td>\n",
       "      <td>248738</td>\n",
       "      <td>29.0000</td>\n",
       "      <td>NaN</td>\n",
       "      <td>S</td>\n",
       "    </tr>\n",
       "    <tr>\n",
       "      <th>8</th>\n",
       "      <td>900</td>\n",
       "      <td>1</td>\n",
       "      <td>3</td>\n",
       "      <td>Abrahim, Mrs. Joseph (Sophie Halaut Easu)</td>\n",
       "      <td>female</td>\n",
       "      <td>18.0</td>\n",
       "      <td>0</td>\n",
       "      <td>0</td>\n",
       "      <td>2657</td>\n",
       "      <td>7.2292</td>\n",
       "      <td>NaN</td>\n",
       "      <td>C</td>\n",
       "    </tr>\n",
       "    <tr>\n",
       "      <th>9</th>\n",
       "      <td>901</td>\n",
       "      <td>0</td>\n",
       "      <td>3</td>\n",
       "      <td>Davies, Mr. John Samuel</td>\n",
       "      <td>male</td>\n",
       "      <td>21.0</td>\n",
       "      <td>2</td>\n",
       "      <td>0</td>\n",
       "      <td>A/4 48871</td>\n",
       "      <td>24.1500</td>\n",
       "      <td>NaN</td>\n",
       "      <td>S</td>\n",
       "    </tr>\n",
       "  </tbody>\n",
       "</table>\n",
       "</div>"
      ],
      "text/plain": [
       "   PassengerId  Survived  Pclass  \\\n",
       "0          892         0       3   \n",
       "1          893         1       3   \n",
       "2          894         0       2   \n",
       "3          895         0       3   \n",
       "4          896         1       3   \n",
       "5          897         0       3   \n",
       "6          898         1       3   \n",
       "7          899         0       2   \n",
       "8          900         1       3   \n",
       "9          901         0       3   \n",
       "\n",
       "                                           Name     Sex   Age  SibSp  Parch  \\\n",
       "0                              Kelly, Mr. James    male  34.5      0      0   \n",
       "1              Wilkes, Mrs. James (Ellen Needs)  female  47.0      1      0   \n",
       "2                     Myles, Mr. Thomas Francis    male  62.0      0      0   \n",
       "3                              Wirz, Mr. Albert    male  27.0      0      0   \n",
       "4  Hirvonen, Mrs. Alexander (Helga E Lindqvist)  female  22.0      1      1   \n",
       "5                    Svensson, Mr. Johan Cervin    male  14.0      0      0   \n",
       "6                          Connolly, Miss. Kate  female  30.0      0      0   \n",
       "7                  Caldwell, Mr. Albert Francis    male  26.0      1      1   \n",
       "8     Abrahim, Mrs. Joseph (Sophie Halaut Easu)  female  18.0      0      0   \n",
       "9                       Davies, Mr. John Samuel    male  21.0      2      0   \n",
       "\n",
       "      Ticket     Fare Cabin Embarked  \n",
       "0     330911   7.8292   NaN        Q  \n",
       "1     363272   7.0000   NaN        S  \n",
       "2     240276   9.6875   NaN        Q  \n",
       "3     315154   8.6625   NaN        S  \n",
       "4    3101298  12.2875   NaN        S  \n",
       "5       7538   9.2250   NaN        S  \n",
       "6     330972   7.6292   NaN        Q  \n",
       "7     248738  29.0000   NaN        S  \n",
       "8       2657   7.2292   NaN        C  \n",
       "9  A/4 48871  24.1500   NaN        S  "
      ]
     },
     "execution_count": 3,
     "metadata": {},
     "output_type": "execute_result"
    }
   ],
   "source": [
    "df.head(10)"
   ]
  },
  {
   "cell_type": "code",
   "execution_count": 4,
   "id": "81028bc9",
   "metadata": {
    "execution": {
     "iopub.execute_input": "2023-10-06T11:06:00.456436Z",
     "iopub.status.busy": "2023-10-06T11:06:00.455379Z",
     "iopub.status.idle": "2023-10-06T11:06:00.483510Z",
     "shell.execute_reply": "2023-10-06T11:06:00.482244Z"
    },
    "papermill": {
     "duration": 0.044404,
     "end_time": "2023-10-06T11:06:00.485923",
     "exception": false,
     "start_time": "2023-10-06T11:06:00.441519",
     "status": "completed"
    },
    "tags": []
   },
   "outputs": [
    {
     "name": "stdout",
     "output_type": "stream",
     "text": [
      "<class 'pandas.core.frame.DataFrame'>\n",
      "RangeIndex: 418 entries, 0 to 417\n",
      "Data columns (total 12 columns):\n",
      " #   Column       Non-Null Count  Dtype  \n",
      "---  ------       --------------  -----  \n",
      " 0   PassengerId  418 non-null    int64  \n",
      " 1   Survived     418 non-null    int64  \n",
      " 2   Pclass       418 non-null    int64  \n",
      " 3   Name         418 non-null    object \n",
      " 4   Sex          418 non-null    object \n",
      " 5   Age          332 non-null    float64\n",
      " 6   SibSp        418 non-null    int64  \n",
      " 7   Parch        418 non-null    int64  \n",
      " 8   Ticket       418 non-null    object \n",
      " 9   Fare         417 non-null    float64\n",
      " 10  Cabin        91 non-null     object \n",
      " 11  Embarked     418 non-null    object \n",
      "dtypes: float64(2), int64(5), object(5)\n",
      "memory usage: 39.3+ KB\n",
      "None\n"
     ]
    }
   ],
   "source": [
    "print(df.info())"
   ]
  },
  {
   "cell_type": "code",
   "execution_count": 5,
   "id": "a2b83af2",
   "metadata": {
    "execution": {
     "iopub.execute_input": "2023-10-06T11:06:00.513990Z",
     "iopub.status.busy": "2023-10-06T11:06:00.513617Z",
     "iopub.status.idle": "2023-10-06T11:06:00.528262Z",
     "shell.execute_reply": "2023-10-06T11:06:00.526762Z"
    },
    "papermill": {
     "duration": 0.031028,
     "end_time": "2023-10-06T11:06:00.530393",
     "exception": false,
     "start_time": "2023-10-06T11:06:00.499365",
     "status": "completed"
    },
    "tags": []
   },
   "outputs": [
    {
     "data": {
      "text/plain": [
       "0      False\n",
       "1      False\n",
       "2      False\n",
       "3      False\n",
       "4      False\n",
       "       ...  \n",
       "413    False\n",
       "414    False\n",
       "415    False\n",
       "416    False\n",
       "417    False\n",
       "Length: 418, dtype: bool"
      ]
     },
     "execution_count": 5,
     "metadata": {},
     "output_type": "execute_result"
    }
   ],
   "source": [
    "df.duplicated()"
   ]
  },
  {
   "cell_type": "code",
   "execution_count": 6,
   "id": "a2993281",
   "metadata": {
    "execution": {
     "iopub.execute_input": "2023-10-06T11:06:00.558105Z",
     "iopub.status.busy": "2023-10-06T11:06:00.557705Z",
     "iopub.status.idle": "2023-10-06T11:06:00.580703Z",
     "shell.execute_reply": "2023-10-06T11:06:00.579572Z"
    },
    "papermill": {
     "duration": 0.039456,
     "end_time": "2023-10-06T11:06:00.582861",
     "exception": false,
     "start_time": "2023-10-06T11:06:00.543405",
     "status": "completed"
    },
    "tags": []
   },
   "outputs": [
    {
     "data": {
      "text/html": [
       "<div>\n",
       "<style scoped>\n",
       "    .dataframe tbody tr th:only-of-type {\n",
       "        vertical-align: middle;\n",
       "    }\n",
       "\n",
       "    .dataframe tbody tr th {\n",
       "        vertical-align: top;\n",
       "    }\n",
       "\n",
       "    .dataframe thead th {\n",
       "        text-align: right;\n",
       "    }\n",
       "</style>\n",
       "<table border=\"1\" class=\"dataframe\">\n",
       "  <thead>\n",
       "    <tr style=\"text-align: right;\">\n",
       "      <th></th>\n",
       "      <th>PassengerId</th>\n",
       "      <th>Survived</th>\n",
       "      <th>Pclass</th>\n",
       "      <th>Name</th>\n",
       "      <th>Sex</th>\n",
       "      <th>Age</th>\n",
       "      <th>SibSp</th>\n",
       "      <th>Parch</th>\n",
       "      <th>Ticket</th>\n",
       "      <th>Fare</th>\n",
       "      <th>Cabin</th>\n",
       "      <th>Embarked</th>\n",
       "    </tr>\n",
       "  </thead>\n",
       "  <tbody>\n",
       "    <tr>\n",
       "      <th>0</th>\n",
       "      <td>False</td>\n",
       "      <td>False</td>\n",
       "      <td>False</td>\n",
       "      <td>False</td>\n",
       "      <td>False</td>\n",
       "      <td>False</td>\n",
       "      <td>False</td>\n",
       "      <td>False</td>\n",
       "      <td>False</td>\n",
       "      <td>False</td>\n",
       "      <td>True</td>\n",
       "      <td>False</td>\n",
       "    </tr>\n",
       "    <tr>\n",
       "      <th>1</th>\n",
       "      <td>False</td>\n",
       "      <td>False</td>\n",
       "      <td>False</td>\n",
       "      <td>False</td>\n",
       "      <td>False</td>\n",
       "      <td>False</td>\n",
       "      <td>False</td>\n",
       "      <td>False</td>\n",
       "      <td>False</td>\n",
       "      <td>False</td>\n",
       "      <td>True</td>\n",
       "      <td>False</td>\n",
       "    </tr>\n",
       "    <tr>\n",
       "      <th>2</th>\n",
       "      <td>False</td>\n",
       "      <td>False</td>\n",
       "      <td>False</td>\n",
       "      <td>False</td>\n",
       "      <td>False</td>\n",
       "      <td>False</td>\n",
       "      <td>False</td>\n",
       "      <td>False</td>\n",
       "      <td>False</td>\n",
       "      <td>False</td>\n",
       "      <td>True</td>\n",
       "      <td>False</td>\n",
       "    </tr>\n",
       "    <tr>\n",
       "      <th>3</th>\n",
       "      <td>False</td>\n",
       "      <td>False</td>\n",
       "      <td>False</td>\n",
       "      <td>False</td>\n",
       "      <td>False</td>\n",
       "      <td>False</td>\n",
       "      <td>False</td>\n",
       "      <td>False</td>\n",
       "      <td>False</td>\n",
       "      <td>False</td>\n",
       "      <td>True</td>\n",
       "      <td>False</td>\n",
       "    </tr>\n",
       "    <tr>\n",
       "      <th>4</th>\n",
       "      <td>False</td>\n",
       "      <td>False</td>\n",
       "      <td>False</td>\n",
       "      <td>False</td>\n",
       "      <td>False</td>\n",
       "      <td>False</td>\n",
       "      <td>False</td>\n",
       "      <td>False</td>\n",
       "      <td>False</td>\n",
       "      <td>False</td>\n",
       "      <td>True</td>\n",
       "      <td>False</td>\n",
       "    </tr>\n",
       "    <tr>\n",
       "      <th>...</th>\n",
       "      <td>...</td>\n",
       "      <td>...</td>\n",
       "      <td>...</td>\n",
       "      <td>...</td>\n",
       "      <td>...</td>\n",
       "      <td>...</td>\n",
       "      <td>...</td>\n",
       "      <td>...</td>\n",
       "      <td>...</td>\n",
       "      <td>...</td>\n",
       "      <td>...</td>\n",
       "      <td>...</td>\n",
       "    </tr>\n",
       "    <tr>\n",
       "      <th>413</th>\n",
       "      <td>False</td>\n",
       "      <td>False</td>\n",
       "      <td>False</td>\n",
       "      <td>False</td>\n",
       "      <td>False</td>\n",
       "      <td>True</td>\n",
       "      <td>False</td>\n",
       "      <td>False</td>\n",
       "      <td>False</td>\n",
       "      <td>False</td>\n",
       "      <td>True</td>\n",
       "      <td>False</td>\n",
       "    </tr>\n",
       "    <tr>\n",
       "      <th>414</th>\n",
       "      <td>False</td>\n",
       "      <td>False</td>\n",
       "      <td>False</td>\n",
       "      <td>False</td>\n",
       "      <td>False</td>\n",
       "      <td>False</td>\n",
       "      <td>False</td>\n",
       "      <td>False</td>\n",
       "      <td>False</td>\n",
       "      <td>False</td>\n",
       "      <td>False</td>\n",
       "      <td>False</td>\n",
       "    </tr>\n",
       "    <tr>\n",
       "      <th>415</th>\n",
       "      <td>False</td>\n",
       "      <td>False</td>\n",
       "      <td>False</td>\n",
       "      <td>False</td>\n",
       "      <td>False</td>\n",
       "      <td>False</td>\n",
       "      <td>False</td>\n",
       "      <td>False</td>\n",
       "      <td>False</td>\n",
       "      <td>False</td>\n",
       "      <td>True</td>\n",
       "      <td>False</td>\n",
       "    </tr>\n",
       "    <tr>\n",
       "      <th>416</th>\n",
       "      <td>False</td>\n",
       "      <td>False</td>\n",
       "      <td>False</td>\n",
       "      <td>False</td>\n",
       "      <td>False</td>\n",
       "      <td>True</td>\n",
       "      <td>False</td>\n",
       "      <td>False</td>\n",
       "      <td>False</td>\n",
       "      <td>False</td>\n",
       "      <td>True</td>\n",
       "      <td>False</td>\n",
       "    </tr>\n",
       "    <tr>\n",
       "      <th>417</th>\n",
       "      <td>False</td>\n",
       "      <td>False</td>\n",
       "      <td>False</td>\n",
       "      <td>False</td>\n",
       "      <td>False</td>\n",
       "      <td>True</td>\n",
       "      <td>False</td>\n",
       "      <td>False</td>\n",
       "      <td>False</td>\n",
       "      <td>False</td>\n",
       "      <td>True</td>\n",
       "      <td>False</td>\n",
       "    </tr>\n",
       "  </tbody>\n",
       "</table>\n",
       "<p>418 rows × 12 columns</p>\n",
       "</div>"
      ],
      "text/plain": [
       "     PassengerId  Survived  Pclass   Name    Sex    Age  SibSp  Parch  Ticket  \\\n",
       "0          False     False   False  False  False  False  False  False   False   \n",
       "1          False     False   False  False  False  False  False  False   False   \n",
       "2          False     False   False  False  False  False  False  False   False   \n",
       "3          False     False   False  False  False  False  False  False   False   \n",
       "4          False     False   False  False  False  False  False  False   False   \n",
       "..           ...       ...     ...    ...    ...    ...    ...    ...     ...   \n",
       "413        False     False   False  False  False   True  False  False   False   \n",
       "414        False     False   False  False  False  False  False  False   False   \n",
       "415        False     False   False  False  False  False  False  False   False   \n",
       "416        False     False   False  False  False   True  False  False   False   \n",
       "417        False     False   False  False  False   True  False  False   False   \n",
       "\n",
       "      Fare  Cabin  Embarked  \n",
       "0    False   True     False  \n",
       "1    False   True     False  \n",
       "2    False   True     False  \n",
       "3    False   True     False  \n",
       "4    False   True     False  \n",
       "..     ...    ...       ...  \n",
       "413  False   True     False  \n",
       "414  False  False     False  \n",
       "415  False   True     False  \n",
       "416  False   True     False  \n",
       "417  False   True     False  \n",
       "\n",
       "[418 rows x 12 columns]"
      ]
     },
     "execution_count": 6,
     "metadata": {},
     "output_type": "execute_result"
    }
   ],
   "source": [
    "df.isnull()"
   ]
  },
  {
   "cell_type": "markdown",
   "id": "9d34f97b",
   "metadata": {
    "papermill": {
     "duration": 0.01325,
     "end_time": "2023-10-06T11:06:00.609344",
     "exception": false,
     "start_time": "2023-10-06T11:06:00.596094",
     "status": "completed"
    },
    "tags": []
   },
   "source": [
    "<div style=\"text-align: center;\">\n",
    "  <h2>📊 Data Analysis</h2>\n",
    "</div>\n",
    "\n",
    "In this phase, we dive deeper into the dataset, perform various analyses, and prepare the data for modeling. Key tasks include data cleaning, encoding, and gaining insights through descriptive statistics and data visualization.\n"
   ]
  },
  {
   "cell_type": "markdown",
   "id": "0a085c98",
   "metadata": {
    "papermill": {
     "duration": 0.073497,
     "end_time": "2023-10-06T11:06:00.696078",
     "exception": false,
     "start_time": "2023-10-06T11:06:00.622581",
     "status": "completed"
    },
    "tags": []
   },
   "source": [
    "<div style=\"text-align: center;\">\n",
    "  <h2>🧹 Data Cleaning</h2>\n",
    "</div>\n"
   ]
  },
  {
   "cell_type": "markdown",
   "id": "2f38d6e4",
   "metadata": {
    "papermill": {
     "duration": 0.012983,
     "end_time": "2023-10-06T11:06:00.722303",
     "exception": false,
     "start_time": "2023-10-06T11:06:00.709320",
     "status": "completed"
    },
    "tags": []
   },
   "source": [
    "⚙️**Handling Missing Values**\n",
    "\n",
    "**Cabin** column, which has a high percentage of missing values (79%) if we use this column we need 79% values to precit so its not possible so we drop this column.\n",
    "\n",
    "**Fare** column have only 1 missing value Fills missing values in the 'Fare' column with the mean fare.\n",
    "\n",
    "**Age** column has 20% values is missing if we delete this column we loss 80% of data so Uses random imputation to fill missing values."
   ]
  },
  {
   "cell_type": "code",
   "execution_count": 7,
   "id": "542a0dbb",
   "metadata": {
    "execution": {
     "iopub.execute_input": "2023-10-06T11:06:00.750889Z",
     "iopub.status.busy": "2023-10-06T11:06:00.750495Z",
     "iopub.status.idle": "2023-10-06T11:06:00.757132Z",
     "shell.execute_reply": "2023-10-06T11:06:00.755839Z"
    },
    "papermill": {
     "duration": 0.023619,
     "end_time": "2023-10-06T11:06:00.759363",
     "exception": false,
     "start_time": "2023-10-06T11:06:00.735744",
     "status": "completed"
    },
    "tags": []
   },
   "outputs": [],
   "source": [
    "df.drop(columns=['Cabin'],inplace=True)"
   ]
  },
  {
   "cell_type": "code",
   "execution_count": 8,
   "id": "0beb310e",
   "metadata": {
    "execution": {
     "iopub.execute_input": "2023-10-06T11:06:00.788763Z",
     "iopub.status.busy": "2023-10-06T11:06:00.788358Z",
     "iopub.status.idle": "2023-10-06T11:06:00.794650Z",
     "shell.execute_reply": "2023-10-06T11:06:00.793682Z"
    },
    "papermill": {
     "duration": 0.023781,
     "end_time": "2023-10-06T11:06:00.796604",
     "exception": false,
     "start_time": "2023-10-06T11:06:00.772823",
     "status": "completed"
    },
    "tags": []
   },
   "outputs": [],
   "source": [
    "df['Fare'].fillna(df['Fare'].mean(),inplace=True)"
   ]
  },
  {
   "cell_type": "code",
   "execution_count": 9,
   "id": "b1ba00c7",
   "metadata": {
    "execution": {
     "iopub.execute_input": "2023-10-06T11:06:00.825745Z",
     "iopub.status.busy": "2023-10-06T11:06:00.825336Z",
     "iopub.status.idle": "2023-10-06T11:06:00.831941Z",
     "shell.execute_reply": "2023-10-06T11:06:00.831033Z"
    },
    "papermill": {
     "duration": 0.023796,
     "end_time": "2023-10-06T11:06:00.834126",
     "exception": false,
     "start_time": "2023-10-06T11:06:00.810330",
     "status": "completed"
    },
    "tags": []
   },
   "outputs": [],
   "source": [
    "\n",
    "test_age = np.random.randint(df['Age'].mean() - df['Age'].std(), df['Age'].mean() + df['Age'].std(), 86)\n"
   ]
  },
  {
   "cell_type": "code",
   "execution_count": 10,
   "id": "8960cb92",
   "metadata": {
    "execution": {
     "iopub.execute_input": "2023-10-06T11:06:00.862785Z",
     "iopub.status.busy": "2023-10-06T11:06:00.862435Z",
     "iopub.status.idle": "2023-10-06T11:06:00.869476Z",
     "shell.execute_reply": "2023-10-06T11:06:00.868409Z"
    },
    "papermill": {
     "duration": 0.023811,
     "end_time": "2023-10-06T11:06:00.871604",
     "exception": false,
     "start_time": "2023-10-06T11:06:00.847793",
     "status": "completed"
    },
    "tags": []
   },
   "outputs": [
    {
     "name": "stderr",
     "output_type": "stream",
     "text": [
      "/tmp/ipykernel_20/2664177253.py:1: SettingWithCopyWarning: \n",
      "A value is trying to be set on a copy of a slice from a DataFrame\n",
      "\n",
      "See the caveats in the documentation: https://pandas.pydata.org/pandas-docs/stable/user_guide/indexing.html#returning-a-view-versus-a-copy\n",
      "  df['Age'][df['Age'].isnull()] = test_age\n"
     ]
    }
   ],
   "source": [
    " df['Age'][df['Age'].isnull()] = test_age "
   ]
  },
  {
   "cell_type": "code",
   "execution_count": 11,
   "id": "7b4fad21",
   "metadata": {
    "execution": {
     "iopub.execute_input": "2023-10-06T11:06:00.899713Z",
     "iopub.status.busy": "2023-10-06T11:06:00.899320Z",
     "iopub.status.idle": "2023-10-06T11:06:00.907819Z",
     "shell.execute_reply": "2023-10-06T11:06:00.906644Z"
    },
    "papermill": {
     "duration": 0.024764,
     "end_time": "2023-10-06T11:06:00.909723",
     "exception": false,
     "start_time": "2023-10-06T11:06:00.884959",
     "status": "completed"
    },
    "tags": []
   },
   "outputs": [
    {
     "data": {
      "text/plain": [
       "Embarked\n",
       "S    270\n",
       "C    102\n",
       "Q     46\n",
       "Name: count, dtype: int64"
      ]
     },
     "execution_count": 11,
     "metadata": {},
     "output_type": "execute_result"
    }
   ],
   "source": [
    "df.Embarked.value_counts()\n"
   ]
  },
  {
   "cell_type": "code",
   "execution_count": 12,
   "id": "2724be21",
   "metadata": {
    "execution": {
     "iopub.execute_input": "2023-10-06T11:06:00.939080Z",
     "iopub.status.busy": "2023-10-06T11:06:00.938731Z",
     "iopub.status.idle": "2023-10-06T11:06:00.943670Z",
     "shell.execute_reply": "2023-10-06T11:06:00.942969Z"
    },
    "papermill": {
     "duration": 0.021437,
     "end_time": "2023-10-06T11:06:00.945395",
     "exception": false,
     "start_time": "2023-10-06T11:06:00.923958",
     "status": "completed"
    },
    "tags": []
   },
   "outputs": [],
   "source": [
    "#  embark null fix\n",
    "data = [df]\n",
    "for dataset in data:\n",
    "    dataset.Embarked = dataset.Embarked.fillna('S')"
   ]
  },
  {
   "cell_type": "markdown",
   "id": "45612c46",
   "metadata": {
    "papermill": {
     "duration": 0.01331,
     "end_time": "2023-10-06T11:06:00.972298",
     "exception": false,
     "start_time": "2023-10-06T11:06:00.958988",
     "status": "completed"
    },
    "tags": []
   },
   "source": [
    "🔢 **Data Encoding**"
   ]
  },
  {
   "cell_type": "code",
   "execution_count": 13,
   "id": "2d162e94",
   "metadata": {
    "execution": {
     "iopub.execute_input": "2023-10-06T11:06:01.001158Z",
     "iopub.status.busy": "2023-10-06T11:06:01.000778Z",
     "iopub.status.idle": "2023-10-06T11:06:01.008628Z",
     "shell.execute_reply": "2023-10-06T11:06:01.007618Z"
    },
    "papermill": {
     "duration": 0.024904,
     "end_time": "2023-10-06T11:06:01.010726",
     "exception": false,
     "start_time": "2023-10-06T11:06:00.985822",
     "status": "completed"
    },
    "tags": []
   },
   "outputs": [
    {
     "data": {
      "text/plain": [
       "Sex\n",
       "male      266\n",
       "female    152\n",
       "Name: count, dtype: int64"
      ]
     },
     "execution_count": 13,
     "metadata": {},
     "output_type": "execute_result"
    }
   ],
   "source": [
    "df['Sex'].value_counts()"
   ]
  },
  {
   "cell_type": "code",
   "execution_count": 14,
   "id": "0caaf31b",
   "metadata": {
    "execution": {
     "iopub.execute_input": "2023-10-06T11:06:01.039941Z",
     "iopub.status.busy": "2023-10-06T11:06:01.039603Z",
     "iopub.status.idle": "2023-10-06T11:06:01.045864Z",
     "shell.execute_reply": "2023-10-06T11:06:01.044943Z"
    },
    "papermill": {
     "duration": 0.02323,
     "end_time": "2023-10-06T11:06:01.047773",
     "exception": false,
     "start_time": "2023-10-06T11:06:01.024543",
     "status": "completed"
    },
    "tags": []
   },
   "outputs": [],
   "source": [
    "#now we need to convert sex into integer value \n",
    "gendermap ={'male':0, 'female':1}\n",
    "data = [df]\n",
    "for dataset in data:\n",
    "    dataset['Sex'] =  dataset['Sex'].map(gendermap)\n",
    "\n"
   ]
  },
  {
   "cell_type": "code",
   "execution_count": 15,
   "id": "49725fd0",
   "metadata": {
    "execution": {
     "iopub.execute_input": "2023-10-06T11:06:01.077041Z",
     "iopub.status.busy": "2023-10-06T11:06:01.076621Z",
     "iopub.status.idle": "2023-10-06T11:06:01.085060Z",
     "shell.execute_reply": "2023-10-06T11:06:01.083872Z"
    },
    "papermill": {
     "duration": 0.025678,
     "end_time": "2023-10-06T11:06:01.087201",
     "exception": false,
     "start_time": "2023-10-06T11:06:01.061523",
     "status": "completed"
    },
    "tags": []
   },
   "outputs": [
    {
     "data": {
      "text/plain": [
       "Embarked\n",
       "S    270\n",
       "C    102\n",
       "Q     46\n",
       "Name: count, dtype: int64"
      ]
     },
     "execution_count": 15,
     "metadata": {},
     "output_type": "execute_result"
    }
   ],
   "source": [
    "df['Embarked'].value_counts()"
   ]
  },
  {
   "cell_type": "code",
   "execution_count": 16,
   "id": "7cd5e06d",
   "metadata": {
    "execution": {
     "iopub.execute_input": "2023-10-06T11:06:01.116856Z",
     "iopub.status.busy": "2023-10-06T11:06:01.116020Z",
     "iopub.status.idle": "2023-10-06T11:06:01.122699Z",
     "shell.execute_reply": "2023-10-06T11:06:01.121490Z"
    },
    "papermill": {
     "duration": 0.023944,
     "end_time": "2023-10-06T11:06:01.124999",
     "exception": false,
     "start_time": "2023-10-06T11:06:01.101055",
     "status": "completed"
    },
    "tags": []
   },
   "outputs": [],
   "source": [
    "embarkmap={'C':0, 'Q':1 ,'S':2}\n",
    "data = [df]\n",
    "for dataset in data:\n",
    "    dataset['Embarked'] =  dataset['Embarked'].map(embarkmap)\n",
    "    "
   ]
  },
  {
   "cell_type": "code",
   "execution_count": 17,
   "id": "255c9a6b",
   "metadata": {
    "execution": {
     "iopub.execute_input": "2023-10-06T11:06:01.155562Z",
     "iopub.status.busy": "2023-10-06T11:06:01.155148Z",
     "iopub.status.idle": "2023-10-06T11:06:01.162998Z",
     "shell.execute_reply": "2023-10-06T11:06:01.162224Z"
    },
    "papermill": {
     "duration": 0.025522,
     "end_time": "2023-10-06T11:06:01.165137",
     "exception": false,
     "start_time": "2023-10-06T11:06:01.139615",
     "status": "completed"
    },
    "tags": []
   },
   "outputs": [
    {
     "data": {
      "text/plain": [
       "Embarked\n",
       "2    270\n",
       "0    102\n",
       "1     46\n",
       "Name: count, dtype: int64"
      ]
     },
     "execution_count": 17,
     "metadata": {},
     "output_type": "execute_result"
    }
   ],
   "source": [
    "df['Embarked'].value_counts()"
   ]
  },
  {
   "cell_type": "code",
   "execution_count": 18,
   "id": "5fd2abcd",
   "metadata": {
    "execution": {
     "iopub.execute_input": "2023-10-06T11:06:01.196020Z",
     "iopub.status.busy": "2023-10-06T11:06:01.195612Z",
     "iopub.status.idle": "2023-10-06T11:06:01.208962Z",
     "shell.execute_reply": "2023-10-06T11:06:01.207771Z"
    },
    "papermill": {
     "duration": 0.031507,
     "end_time": "2023-10-06T11:06:01.210960",
     "exception": false,
     "start_time": "2023-10-06T11:06:01.179453",
     "status": "completed"
    },
    "tags": []
   },
   "outputs": [
    {
     "name": "stdout",
     "output_type": "stream",
     "text": [
      "<class 'pandas.core.frame.DataFrame'>\n",
      "RangeIndex: 418 entries, 0 to 417\n",
      "Data columns (total 11 columns):\n",
      " #   Column       Non-Null Count  Dtype  \n",
      "---  ------       --------------  -----  \n",
      " 0   PassengerId  418 non-null    int64  \n",
      " 1   Survived     418 non-null    int64  \n",
      " 2   Pclass       418 non-null    int64  \n",
      " 3   Name         418 non-null    object \n",
      " 4   Sex          418 non-null    int64  \n",
      " 5   Age          418 non-null    float64\n",
      " 6   SibSp        418 non-null    int64  \n",
      " 7   Parch        418 non-null    int64  \n",
      " 8   Ticket       418 non-null    object \n",
      " 9   Fare         418 non-null    float64\n",
      " 10  Embarked     418 non-null    int64  \n",
      "dtypes: float64(2), int64(7), object(2)\n",
      "memory usage: 36.0+ KB\n"
     ]
    }
   ],
   "source": [
    "df.info()"
   ]
  },
  {
   "cell_type": "code",
   "execution_count": 19,
   "id": "4622d0d4",
   "metadata": {
    "execution": {
     "iopub.execute_input": "2023-10-06T11:06:01.241497Z",
     "iopub.status.busy": "2023-10-06T11:06:01.241081Z",
     "iopub.status.idle": "2023-10-06T11:06:01.250017Z",
     "shell.execute_reply": "2023-10-06T11:06:01.248935Z"
    },
    "papermill": {
     "duration": 0.026536,
     "end_time": "2023-10-06T11:06:01.252283",
     "exception": false,
     "start_time": "2023-10-06T11:06:01.225747",
     "status": "completed"
    },
    "tags": []
   },
   "outputs": [
    {
     "data": {
      "text/plain": [
       "PassengerId    0\n",
       "Survived       0\n",
       "Pclass         0\n",
       "Name           0\n",
       "Sex            0\n",
       "Age            0\n",
       "SibSp          0\n",
       "Parch          0\n",
       "Ticket         0\n",
       "Fare           0\n",
       "Embarked       0\n",
       "dtype: int64"
      ]
     },
     "execution_count": 19,
     "metadata": {},
     "output_type": "execute_result"
    }
   ],
   "source": [
    "df.isnull().sum()"
   ]
  },
  {
   "cell_type": "markdown",
   "id": "b61da247",
   "metadata": {
    "papermill": {
     "duration": 0.013587,
     "end_time": "2023-10-06T11:06:01.280010",
     "exception": false,
     "start_time": "2023-10-06T11:06:01.266423",
     "status": "completed"
    },
    "tags": []
   },
   "source": [
    "\n",
    "**🛠️ Data Preprocessing**\n",
    "\n"
   ]
  },
  {
   "cell_type": "code",
   "execution_count": 20,
   "id": "08dbfcdf",
   "metadata": {
    "execution": {
     "iopub.execute_input": "2023-10-06T11:06:01.310214Z",
     "iopub.status.busy": "2023-10-06T11:06:01.309575Z",
     "iopub.status.idle": "2023-10-06T11:06:01.330492Z",
     "shell.execute_reply": "2023-10-06T11:06:01.329040Z"
    },
    "papermill": {
     "duration": 0.038601,
     "end_time": "2023-10-06T11:06:01.332706",
     "exception": false,
     "start_time": "2023-10-06T11:06:01.294105",
     "status": "completed"
    },
    "tags": []
   },
   "outputs": [
    {
     "data": {
      "text/plain": [
       "Fare\n",
       "(-0.001, 7.796]     85\n",
       "(11.342, 21.679]    85\n",
       "(46.34, 512.329]    84\n",
       "(7.796, 11.342]     82\n",
       "(21.679, 46.34]     82\n",
       "Name: count, dtype: int64"
      ]
     },
     "execution_count": 20,
     "metadata": {},
     "output_type": "execute_result"
    }
   ],
   "source": [
    "# Data preprocessing on the 'Fare' column\n",
    "tempfare = df['Fare']\n",
    "tempfare = pd.qcut(tempfare, 5)\n",
    "tempfare.value_counts()"
   ]
  },
  {
   "cell_type": "code",
   "execution_count": 21,
   "id": "31bd8751",
   "metadata": {
    "execution": {
     "iopub.execute_input": "2023-10-06T11:06:01.363760Z",
     "iopub.status.busy": "2023-10-06T11:06:01.363066Z",
     "iopub.status.idle": "2023-10-06T11:06:01.376134Z",
     "shell.execute_reply": "2023-10-06T11:06:01.374714Z"
    },
    "papermill": {
     "duration": 0.031413,
     "end_time": "2023-10-06T11:06:01.378646",
     "exception": false,
     "start_time": "2023-10-06T11:06:01.347233",
     "status": "completed"
    },
    "tags": []
   },
   "outputs": [
    {
     "data": {
      "text/plain": [
       "Fare\n",
       "0    85\n",
       "3    84\n",
       "4    84\n",
       "2    83\n",
       "1    82\n",
       "Name: count, dtype: int64"
      ]
     },
     "execution_count": 21,
     "metadata": {},
     "output_type": "execute_result"
    }
   ],
   "source": [
    "data = [df]\n",
    "for dataset in data:\n",
    "    dataset.loc[dataset['Fare'] <= 7.796, 'Fare'] = 0\n",
    "    dataset.loc[(dataset['Fare'] > 7.796) & (dataset['Fare'] <= 11.342), 'Fare'] = 1\n",
    "    dataset.loc[(dataset['Fare'] > 11.342) & (dataset['Fare'] <= 21.679), 'Fare'] = 2\n",
    "    dataset.loc[(dataset['Fare'] > 21.679) & (dataset['Fare'] <= 46.34), 'Fare'] = 3\n",
    "    dataset.loc[dataset['Fare'] > 46.34, 'Fare'] = 4\n",
    "\n",
    "    dataset['Fare'] = dataset['Fare'].astype(int)\n",
    "\n",
    "df['Fare'].value_counts()\n"
   ]
  },
  {
   "cell_type": "code",
   "execution_count": 22,
   "id": "74ec6048",
   "metadata": {
    "execution": {
     "iopub.execute_input": "2023-10-06T11:06:01.409698Z",
     "iopub.status.busy": "2023-10-06T11:06:01.409001Z",
     "iopub.status.idle": "2023-10-06T11:06:01.420494Z",
     "shell.execute_reply": "2023-10-06T11:06:01.419453Z"
    },
    "papermill": {
     "duration": 0.029585,
     "end_time": "2023-10-06T11:06:01.422735",
     "exception": false,
     "start_time": "2023-10-06T11:06:01.393150",
     "status": "completed"
    },
    "tags": []
   },
   "outputs": [
    {
     "data": {
      "text/plain": [
       "Age\n",
       "(0.169, 21.0]    101\n",
       "(31.2, 41.0]      90\n",
       "(25.0, 31.2]      81\n",
       "(41.0, 76.0]      77\n",
       "(21.0, 25.0]      69\n",
       "Name: count, dtype: int64"
      ]
     },
     "execution_count": 22,
     "metadata": {},
     "output_type": "execute_result"
    }
   ],
   "source": [
    "# Data preprocessing on the 'age' column\n",
    "tempage = df['Age']\n",
    "tempage = pd.qcut(tempage, 5)\n",
    "tempage.value_counts()"
   ]
  },
  {
   "cell_type": "code",
   "execution_count": 23,
   "id": "7baadd3c",
   "metadata": {
    "execution": {
     "iopub.execute_input": "2023-10-06T11:06:01.454367Z",
     "iopub.status.busy": "2023-10-06T11:06:01.453893Z",
     "iopub.status.idle": "2023-10-06T11:06:01.467485Z",
     "shell.execute_reply": "2023-10-06T11:06:01.466708Z"
    },
    "papermill": {
     "duration": 0.031567,
     "end_time": "2023-10-06T11:06:01.469204",
     "exception": false,
     "start_time": "2023-10-06T11:06:01.437637",
     "status": "completed"
    },
    "tags": []
   },
   "outputs": [
    {
     "data": {
      "text/plain": [
       "Age\n",
       "0     101\n",
       "3      90\n",
       "2      81\n",
       "1      69\n",
       "42      9\n",
       "45      9\n",
       "43      6\n",
       "55      6\n",
       "50      5\n",
       "47      5\n",
       "48      5\n",
       "60      4\n",
       "46      3\n",
       "49      3\n",
       "53      3\n",
       "64      3\n",
       "57      3\n",
       "63      2\n",
       "61      2\n",
       "54      2\n",
       "67      1\n",
       "62      1\n",
       "76      1\n",
       "58      1\n",
       "59      1\n",
       "44      1\n",
       "51      1\n",
       "Name: count, dtype: int64"
      ]
     },
     "execution_count": 23,
     "metadata": {},
     "output_type": "execute_result"
    }
   ],
   "source": [
    "data = [df]\n",
    "for dataset in data:\n",
    "    dataset.loc[dataset['Age'] <= 21.0, 'Age'] = 0\n",
    "    dataset.loc[(dataset['Age'] > 21.0) & (dataset['Age'] <= 25.0), 'Age'] = 1\n",
    "    dataset.loc[(dataset['Age'] > 25.0) & (dataset['Age'] <= 31.0), 'Age'] = 2\n",
    "    dataset.loc[(dataset['Age'] > 31.0) & (dataset['Age'] <= 41.0), 'Age'] = 3\n",
    "    dataset.loc[dataset['Age'] > 76.0, 'Age'] = 4\n",
    "\n",
    "    dataset['Age'] = dataset['Age'].astype(int)\n",
    "\n",
    "df['Age'].value_counts()\n"
   ]
  },
  {
   "cell_type": "markdown",
   "id": "6c812140",
   "metadata": {
    "papermill": {
     "duration": 0.014895,
     "end_time": "2023-10-06T11:06:01.498726",
     "exception": false,
     "start_time": "2023-10-06T11:06:01.483831",
     "status": "completed"
    },
    "tags": []
   },
   "source": [
    "\n",
    "**📈 Descriptive Statistics**\n",
    "\n"
   ]
  },
  {
   "cell_type": "code",
   "execution_count": 24,
   "id": "f2810eb3",
   "metadata": {
    "execution": {
     "iopub.execute_input": "2023-10-06T11:06:01.529884Z",
     "iopub.status.busy": "2023-10-06T11:06:01.528947Z",
     "iopub.status.idle": "2023-10-06T11:06:01.560891Z",
     "shell.execute_reply": "2023-10-06T11:06:01.560077Z"
    },
    "papermill": {
     "duration": 0.049668,
     "end_time": "2023-10-06T11:06:01.562952",
     "exception": false,
     "start_time": "2023-10-06T11:06:01.513284",
     "status": "completed"
    },
    "tags": []
   },
   "outputs": [
    {
     "data": {
      "text/html": [
       "<div>\n",
       "<style scoped>\n",
       "    .dataframe tbody tr th:only-of-type {\n",
       "        vertical-align: middle;\n",
       "    }\n",
       "\n",
       "    .dataframe tbody tr th {\n",
       "        vertical-align: top;\n",
       "    }\n",
       "\n",
       "    .dataframe thead th {\n",
       "        text-align: right;\n",
       "    }\n",
       "</style>\n",
       "<table border=\"1\" class=\"dataframe\">\n",
       "  <thead>\n",
       "    <tr style=\"text-align: right;\">\n",
       "      <th></th>\n",
       "      <th>PassengerId</th>\n",
       "      <th>Survived</th>\n",
       "      <th>Pclass</th>\n",
       "      <th>Sex</th>\n",
       "      <th>Age</th>\n",
       "      <th>SibSp</th>\n",
       "      <th>Parch</th>\n",
       "      <th>Fare</th>\n",
       "      <th>Embarked</th>\n",
       "    </tr>\n",
       "  </thead>\n",
       "  <tbody>\n",
       "    <tr>\n",
       "      <th>count</th>\n",
       "      <td>418.000000</td>\n",
       "      <td>418.000000</td>\n",
       "      <td>418.000000</td>\n",
       "      <td>418.000000</td>\n",
       "      <td>418.000000</td>\n",
       "      <td>418.000000</td>\n",
       "      <td>418.000000</td>\n",
       "      <td>418.00000</td>\n",
       "      <td>418.000000</td>\n",
       "    </tr>\n",
       "    <tr>\n",
       "      <th>mean</th>\n",
       "      <td>1100.500000</td>\n",
       "      <td>0.363636</td>\n",
       "      <td>2.265550</td>\n",
       "      <td>0.363636</td>\n",
       "      <td>10.566986</td>\n",
       "      <td>0.447368</td>\n",
       "      <td>0.392344</td>\n",
       "      <td>2.00000</td>\n",
       "      <td>1.401914</td>\n",
       "    </tr>\n",
       "    <tr>\n",
       "      <th>std</th>\n",
       "      <td>120.810458</td>\n",
       "      <td>0.481622</td>\n",
       "      <td>0.841838</td>\n",
       "      <td>0.481622</td>\n",
       "      <td>19.468638</td>\n",
       "      <td>0.896760</td>\n",
       "      <td>0.981429</td>\n",
       "      <td>1.42098</td>\n",
       "      <td>0.854496</td>\n",
       "    </tr>\n",
       "    <tr>\n",
       "      <th>min</th>\n",
       "      <td>892.000000</td>\n",
       "      <td>0.000000</td>\n",
       "      <td>1.000000</td>\n",
       "      <td>0.000000</td>\n",
       "      <td>0.000000</td>\n",
       "      <td>0.000000</td>\n",
       "      <td>0.000000</td>\n",
       "      <td>0.00000</td>\n",
       "      <td>0.000000</td>\n",
       "    </tr>\n",
       "    <tr>\n",
       "      <th>25%</th>\n",
       "      <td>996.250000</td>\n",
       "      <td>0.000000</td>\n",
       "      <td>1.000000</td>\n",
       "      <td>0.000000</td>\n",
       "      <td>1.000000</td>\n",
       "      <td>0.000000</td>\n",
       "      <td>0.000000</td>\n",
       "      <td>1.00000</td>\n",
       "      <td>1.000000</td>\n",
       "    </tr>\n",
       "    <tr>\n",
       "      <th>50%</th>\n",
       "      <td>1100.500000</td>\n",
       "      <td>0.000000</td>\n",
       "      <td>3.000000</td>\n",
       "      <td>0.000000</td>\n",
       "      <td>2.000000</td>\n",
       "      <td>0.000000</td>\n",
       "      <td>0.000000</td>\n",
       "      <td>2.00000</td>\n",
       "      <td>2.000000</td>\n",
       "    </tr>\n",
       "    <tr>\n",
       "      <th>75%</th>\n",
       "      <td>1204.750000</td>\n",
       "      <td>1.000000</td>\n",
       "      <td>3.000000</td>\n",
       "      <td>1.000000</td>\n",
       "      <td>3.000000</td>\n",
       "      <td>1.000000</td>\n",
       "      <td>0.000000</td>\n",
       "      <td>3.00000</td>\n",
       "      <td>2.000000</td>\n",
       "    </tr>\n",
       "    <tr>\n",
       "      <th>max</th>\n",
       "      <td>1309.000000</td>\n",
       "      <td>1.000000</td>\n",
       "      <td>3.000000</td>\n",
       "      <td>1.000000</td>\n",
       "      <td>76.000000</td>\n",
       "      <td>8.000000</td>\n",
       "      <td>9.000000</td>\n",
       "      <td>4.00000</td>\n",
       "      <td>2.000000</td>\n",
       "    </tr>\n",
       "  </tbody>\n",
       "</table>\n",
       "</div>"
      ],
      "text/plain": [
       "       PassengerId    Survived      Pclass         Sex         Age  \\\n",
       "count   418.000000  418.000000  418.000000  418.000000  418.000000   \n",
       "mean   1100.500000    0.363636    2.265550    0.363636   10.566986   \n",
       "std     120.810458    0.481622    0.841838    0.481622   19.468638   \n",
       "min     892.000000    0.000000    1.000000    0.000000    0.000000   \n",
       "25%     996.250000    0.000000    1.000000    0.000000    1.000000   \n",
       "50%    1100.500000    0.000000    3.000000    0.000000    2.000000   \n",
       "75%    1204.750000    1.000000    3.000000    1.000000    3.000000   \n",
       "max    1309.000000    1.000000    3.000000    1.000000   76.000000   \n",
       "\n",
       "            SibSp       Parch       Fare    Embarked  \n",
       "count  418.000000  418.000000  418.00000  418.000000  \n",
       "mean     0.447368    0.392344    2.00000    1.401914  \n",
       "std      0.896760    0.981429    1.42098    0.854496  \n",
       "min      0.000000    0.000000    0.00000    0.000000  \n",
       "25%      0.000000    0.000000    1.00000    1.000000  \n",
       "50%      0.000000    0.000000    2.00000    2.000000  \n",
       "75%      1.000000    0.000000    3.00000    2.000000  \n",
       "max      8.000000    9.000000    4.00000    2.000000  "
      ]
     },
     "execution_count": 24,
     "metadata": {},
     "output_type": "execute_result"
    }
   ],
   "source": [
    "# 1.getting some statistic measure about the data\n",
    "df.describe()"
   ]
  },
  {
   "cell_type": "markdown",
   "id": "ad733100",
   "metadata": {
    "papermill": {
     "duration": 0.014536,
     "end_time": "2023-10-06T11:06:01.592265",
     "exception": false,
     "start_time": "2023-10-06T11:06:01.577729",
     "status": "completed"
    },
    "tags": []
   },
   "source": [
    "<div style=\"text-align: center;\">\n",
    "  <h2>📊 Exploratory Data Analysis (EDA)</h2>\n",
    "</div>\n"
   ]
  },
  {
   "cell_type": "code",
   "execution_count": 25,
   "id": "e92a9fb8",
   "metadata": {
    "execution": {
     "iopub.execute_input": "2023-10-06T11:06:01.623817Z",
     "iopub.status.busy": "2023-10-06T11:06:01.622695Z",
     "iopub.status.idle": "2023-10-06T11:06:01.631081Z",
     "shell.execute_reply": "2023-10-06T11:06:01.630058Z"
    },
    "papermill": {
     "duration": 0.026225,
     "end_time": "2023-10-06T11:06:01.633085",
     "exception": false,
     "start_time": "2023-10-06T11:06:01.606860",
     "status": "completed"
    },
    "tags": []
   },
   "outputs": [
    {
     "data": {
      "text/plain": [
       "Survived\n",
       "0    266\n",
       "1    152\n",
       "Name: count, dtype: int64"
      ]
     },
     "execution_count": 25,
     "metadata": {},
     "output_type": "execute_result"
    }
   ],
   "source": [
    "df['Survived'].value_counts()"
   ]
  },
  {
   "cell_type": "code",
   "execution_count": 26,
   "id": "f8898f3f",
   "metadata": {
    "execution": {
     "iopub.execute_input": "2023-10-06T11:06:01.664961Z",
     "iopub.status.busy": "2023-10-06T11:06:01.664552Z",
     "iopub.status.idle": "2023-10-06T11:06:01.675123Z",
     "shell.execute_reply": "2023-10-06T11:06:01.673692Z"
    },
    "papermill": {
     "duration": 0.029187,
     "end_time": "2023-10-06T11:06:01.677185",
     "exception": false,
     "start_time": "2023-10-06T11:06:01.647998",
     "status": "completed"
    },
    "tags": []
   },
   "outputs": [
    {
     "name": "stdout",
     "output_type": "stream",
     "text": [
      "Percentage of passengers in class 3 who survived: 33.03%\n",
      "Percentage of passengers in class 2 who survived: 32.26%\n",
      "Percentage of passengers in class 1 who survived: 46.73%\n"
     ]
    }
   ],
   "source": [
    "# Get the unique values in the 'Pclass' column (1, 2, and 3)\n",
    "pclass_values = df['Pclass'].unique()\n",
    "\n",
    "# Loop through each unique 'Pclass' value and calculate the percentage of passengers who survived\n",
    "for pclass_value in pclass_values:\n",
    "    subset_df = df[df['Pclass'] == pclass_value]\n",
    "    percentage_survived = (subset_df['Survived'].sum() / len(subset_df)) * 100\n",
    "    print(f\"Percentage of passengers in class {pclass_value} who survived: {percentage_survived:.2f}%\")\n"
   ]
  },
  {
   "cell_type": "code",
   "execution_count": 27,
   "id": "11c81820",
   "metadata": {
    "execution": {
     "iopub.execute_input": "2023-10-06T11:06:01.709086Z",
     "iopub.status.busy": "2023-10-06T11:06:01.708690Z",
     "iopub.status.idle": "2023-10-06T11:06:01.718987Z",
     "shell.execute_reply": "2023-10-06T11:06:01.717770Z"
    },
    "papermill": {
     "duration": 0.028704,
     "end_time": "2023-10-06T11:06:01.720992",
     "exception": false,
     "start_time": "2023-10-06T11:06:01.692288",
     "status": "completed"
    },
    "tags": []
   },
   "outputs": [
    {
     "name": "stdout",
     "output_type": "stream",
     "text": [
      "Percentage of passengers who survived in 0: 0.00%\n",
      "Percentage of passengers who survived in 1: 100.00%\n"
     ]
    }
   ],
   "source": [
    "# Group the DataFrame by 'sex' and calculate the mean survival rate\n",
    "survival_mean_by_sex = df.groupby(['Sex'])['Survived'].mean() * 100\n",
    "\n",
    "for sex, percentage in survival_mean_by_sex.items():\n",
    "    print(f\"Percentage of passengers who survived in {sex}: {percentage:.2f}%\")\n"
   ]
  },
  {
   "cell_type": "code",
   "execution_count": 28,
   "id": "48394db1",
   "metadata": {
    "execution": {
     "iopub.execute_input": "2023-10-06T11:06:01.756466Z",
     "iopub.status.busy": "2023-10-06T11:06:01.755780Z",
     "iopub.status.idle": "2023-10-06T11:06:01.765431Z",
     "shell.execute_reply": "2023-10-06T11:06:01.764020Z"
    },
    "papermill": {
     "duration": 0.031711,
     "end_time": "2023-10-06T11:06:01.768596",
     "exception": false,
     "start_time": "2023-10-06T11:06:01.736885",
     "status": "completed"
    },
    "tags": []
   },
   "outputs": [
    {
     "name": "stdout",
     "output_type": "stream",
     "text": [
      "Percentage of passengers who survived in 0: 39.22%\n",
      "Percentage of passengers who survived in 1: 52.17%\n",
      "Percentage of passengers who survived in 2: 32.59%\n"
     ]
    }
   ],
   "source": [
    "# Group the DataFrame by 'Embarked' and calculate the mean survival rate\n",
    "survival_mean_by_Embarked = df.groupby(['Embarked'])['Survived'].mean() * 100\n",
    "\n",
    "for embarked, percentage in survival_mean_by_Embarked.items():\n",
    "    print(f\"Percentage of passengers who survived in {embarked}: {percentage:.2f}%\")\n"
   ]
  },
  {
   "cell_type": "code",
   "execution_count": 29,
   "id": "0331190c",
   "metadata": {
    "execution": {
     "iopub.execute_input": "2023-10-06T11:06:01.814559Z",
     "iopub.status.busy": "2023-10-06T11:06:01.814157Z",
     "iopub.status.idle": "2023-10-06T11:06:01.824494Z",
     "shell.execute_reply": "2023-10-06T11:06:01.823353Z"
    },
    "papermill": {
     "duration": 0.031079,
     "end_time": "2023-10-06T11:06:01.827072",
     "exception": false,
     "start_time": "2023-10-06T11:06:01.795993",
     "status": "completed"
    },
    "tags": []
   },
   "outputs": [
    {
     "name": "stdout",
     "output_type": "stream",
     "text": [
      "Percentage of passengers who survived in Abbott, Master. Eugene Joseph: 0.00%\n",
      "Percentage of passengers who survived in Abelseth, Miss. Karen Marie: 100.00%\n",
      "Percentage of passengers who survived in Abelseth, Mr. Olaus Jorgensen: 0.00%\n",
      "Percentage of passengers who survived in Abrahamsson, Mr. Abraham August Johannes: 0.00%\n",
      "Percentage of passengers who survived in Abrahim, Mrs. Joseph (Sophie Halaut Easu): 100.00%\n",
      "Percentage of passengers who survived in Aks, Master. Philip Frank: 0.00%\n",
      "Percentage of passengers who survived in Aldworth, Mr. Charles Augustus: 0.00%\n",
      "Percentage of passengers who survived in Allison, Mr. Hudson Joshua Creighton: 0.00%\n",
      "Percentage of passengers who survived in Andersen, Mr. Albert Karvin: 0.00%\n",
      "Percentage of passengers who survived in Andersson, Miss. Ida Augusta Margareta: 100.00%\n",
      "Percentage of passengers who survived in Andersson, Mr. Johan Samuel: 0.00%\n",
      "Percentage of passengers who survived in Andrew, Mr. Frank Thomas: 0.00%\n",
      "Percentage of passengers who survived in Angheloff, Mr. Minko: 0.00%\n",
      "Percentage of passengers who survived in Angle, Mr. William A: 0.00%\n",
      "Percentage of passengers who survived in Aronsson, Mr. Ernst Axel Algot: 0.00%\n",
      "Percentage of passengers who survived in Ashby, Mr. John: 0.00%\n",
      "Percentage of passengers who survived in Asplund, Master. Carl Edgar: 0.00%\n",
      "Percentage of passengers who survived in Asplund, Master. Filip Oscar: 0.00%\n",
      "Percentage of passengers who survived in Asplund, Mr. Carl Oscar Vilhelm Gustafsson: 0.00%\n",
      "Percentage of passengers who survived in Asplund, Mr. Johan Charles: 0.00%\n",
      "Percentage of passengers who survived in Assaf Khalil, Mrs. Mariana (Miriam\")\": 100.00%\n",
      "Percentage of passengers who survived in Assaf, Mr. Gerios: 0.00%\n",
      "Percentage of passengers who survived in Assam, Mr. Ali: 0.00%\n",
      "Percentage of passengers who survived in Astor, Col. John Jacob: 0.00%\n",
      "Percentage of passengers who survived in Baccos, Mr. Raffull: 0.00%\n",
      "Percentage of passengers who survived in Badman, Miss. Emily Louisa: 100.00%\n",
      "Percentage of passengers who survived in Baimbrigge, Mr. Charles Robert: 0.00%\n",
      "Percentage of passengers who survived in Barry, Miss. Julia: 100.00%\n",
      "Percentage of passengers who survived in Beattie, Mr. Thomson: 0.00%\n",
      "Percentage of passengers who survived in Beauchamp, Mr. Henry James: 0.00%\n",
      "Percentage of passengers who survived in Becker, Miss. Ruth Elizabeth: 100.00%\n",
      "Percentage of passengers who survived in Becker, Mrs. Allen Oliver (Nellie E Baumgardner): 100.00%\n",
      "Percentage of passengers who survived in Bentham, Miss. Lilian W: 100.00%\n",
      "Percentage of passengers who survived in Betros, Master. Seman: 0.00%\n",
      "Percentage of passengers who survived in Bird, Miss. Ellen: 100.00%\n",
      "Percentage of passengers who survived in Birnbaum, Mr. Jakob: 0.00%\n",
      "Percentage of passengers who survived in Bjorklund, Mr. Ernst Herbert: 0.00%\n",
      "Percentage of passengers who survived in Bonnell, Miss. Caroline: 100.00%\n",
      "Percentage of passengers who survived in Borebank, Mr. John James: 0.00%\n",
      "Percentage of passengers who survived in Botsford, Mr. William Hull: 0.00%\n",
      "Percentage of passengers who survived in Boulos, Master. Akar: 0.00%\n",
      "Percentage of passengers who survived in Bowen, Miss. Grace Scott: 100.00%\n",
      "Percentage of passengers who survived in Bowenur, Mr. Solomon: 0.00%\n",
      "Percentage of passengers who survived in Bradley, Miss. Bridget Delia: 100.00%\n",
      "Percentage of passengers who survived in Brady, Mr. John Bertram: 0.00%\n",
      "Percentage of passengers who survived in Braf, Miss. Elin Ester Maria: 100.00%\n",
      "Percentage of passengers who survived in Brandeis, Mr. Emil: 0.00%\n",
      "Percentage of passengers who survived in Brobeck, Mr. Karl Rudolf: 0.00%\n",
      "Percentage of passengers who survived in Brown, Miss. Edith Eileen: 100.00%\n",
      "Percentage of passengers who survived in Brown, Mrs. John Murray (Caroline Lane Lamson): 100.00%\n",
      "Percentage of passengers who survived in Bryhl, Miss. Dagmar Jenny Ingeborg : 100.00%\n",
      "Percentage of passengers who survived in Buckley, Miss. Katherine: 100.00%\n",
      "Percentage of passengers who survived in Buckley, Mr. Daniel: 0.00%\n",
      "Percentage of passengers who survived in Bucknell, Mrs. William Robert (Emma Eliza Ward): 100.00%\n",
      "Percentage of passengers who survived in Burns, Miss. Mary Delia: 100.00%\n",
      "Percentage of passengers who survived in Cacic, Miss. Manda: 100.00%\n",
      "Percentage of passengers who survived in Cacic, Mr. Jego Grga: 0.00%\n",
      "Percentage of passengers who survived in Caldwell, Mr. Albert Francis: 0.00%\n",
      "Percentage of passengers who survived in Canavan, Mr. Patrick: 0.00%\n",
      "Percentage of passengers who survived in Candee, Mrs. Edward (Helen Churchill Hungerford): 100.00%\n",
      "Percentage of passengers who survived in Caram, Mr. Joseph: 0.00%\n",
      "Percentage of passengers who survived in Cardeza, Mrs. James Warburton Martinez (Charlotte Wardle Drake): 100.00%\n",
      "Percentage of passengers who survived in Carlsson, Mr. Carl Robert: 0.00%\n",
      "Percentage of passengers who survived in Carr, Miss. Jeannie: 100.00%\n",
      "Percentage of passengers who survived in Carrau, Mr. Jose Pedro: 0.00%\n",
      "Percentage of passengers who survived in Carver, Mr. Alfred John: 0.00%\n",
      "Percentage of passengers who survived in Case, Mr. Howard Brown: 0.00%\n",
      "Percentage of passengers who survived in Cassebeer, Mrs. Henry Arthur Jr (Eleanor Genevieve Fosdick): 100.00%\n",
      "Percentage of passengers who survived in Cavendish, Mrs. Tyrell William (Julia Florence Siegel): 100.00%\n",
      "Percentage of passengers who survived in Chaffee, Mrs. Herbert Fuller (Carrie Constance Toogood): 100.00%\n",
      "Percentage of passengers who survived in Chapman, Mrs. John Henry (Sara Elizabeth Lawry): 100.00%\n",
      "Percentage of passengers who survived in Chaudanson, Miss. Victorine: 100.00%\n",
      "Percentage of passengers who survived in Chevre, Mr. Paul Romaine: 0.00%\n",
      "Percentage of passengers who survived in Chisholm, Mr. Roderick Robert Crispin: 0.00%\n",
      "Percentage of passengers who survived in Christy, Mrs. (Alice Frances): 100.00%\n",
      "Percentage of passengers who survived in Chronopoulos, Mr. Demetrios: 0.00%\n",
      "Percentage of passengers who survived in Clark, Mr. Walter Miller: 0.00%\n",
      "Percentage of passengers who survived in Clark, Mrs. Walter Miller (Virginia McDowell): 100.00%\n",
      "Percentage of passengers who survived in Clarke, Mr. Charles Valentine: 0.00%\n",
      "Percentage of passengers who survived in Colbert, Mr. Patrick: 0.00%\n",
      "Percentage of passengers who survived in Collett, Mr. Sidney C Stuart: 0.00%\n",
      "Percentage of passengers who survived in Compton, Mr. Alexander Taylor Jr: 0.00%\n",
      "Percentage of passengers who survived in Compton, Mrs. Alexander Taylor (Mary Eliza Ingersoll): 100.00%\n",
      "Percentage of passengers who survived in Conlon, Mr. Thomas Henry: 0.00%\n",
      "Percentage of passengers who survived in Connolly, Miss. Kate: 100.00%\n",
      "Percentage of passengers who survived in Cook, Mrs. (Selena Rogers): 100.00%\n",
      "Percentage of passengers who survived in Cor, Mr. Bartol: 0.00%\n",
      "Percentage of passengers who survived in Cor, Mr. Ivan: 0.00%\n",
      "Percentage of passengers who survived in Corbett, Mrs. Walter H (Irene Colvin): 100.00%\n",
      "Percentage of passengers who survived in Corey, Mrs. Percy C (Mary Phyllis Elizabeth Miller): 100.00%\n",
      "Percentage of passengers who survived in Cornell, Mrs. Robert Clifford (Malvina Helen Lamson): 100.00%\n",
      "Percentage of passengers who survived in Cotterill, Mr. Henry Harry\"\": 0.00%\n",
      "Percentage of passengers who survived in Coutts, Mrs. William (Winnie Minnie\" Treanor)\": 100.00%\n",
      "Percentage of passengers who survived in Crafton, Mr. John Bertram: 0.00%\n",
      "Percentage of passengers who survived in Cribb, Miss. Laura Alice: 100.00%\n",
      "Percentage of passengers who survived in Crosby, Mrs. Edward Gifford (Catherine Elizabeth Halstead): 100.00%\n",
      "Percentage of passengers who survived in Cumings, Mr. John Bradley: 0.00%\n",
      "Percentage of passengers who survived in Daher, Mr. Shedid: 0.00%\n",
      "Percentage of passengers who survived in Daly, Miss. Margaret Marcella Maggie\"\": 100.00%\n",
      "Percentage of passengers who survived in Danbom, Master. Gilbert Sigvard Emanuel: 0.00%\n",
      "Percentage of passengers who survived in Daniels, Miss. Sarah: 100.00%\n",
      "Percentage of passengers who survived in Davidson, Mrs. Thornton (Orian Hays): 100.00%\n",
      "Percentage of passengers who survived in Davies, Mr. Evan: 0.00%\n",
      "Percentage of passengers who survived in Davies, Mr. John Samuel: 0.00%\n",
      "Percentage of passengers who survived in Davies, Mr. Joseph: 0.00%\n",
      "Percentage of passengers who survived in Davies, Mrs. John Morgan (Elizabeth Agnes Mary White) : 100.00%\n",
      "Percentage of passengers who survived in Davison, Mr. Thomas Henry: 0.00%\n",
      "Percentage of passengers who survived in Deacon, Mr. Percy William: 0.00%\n",
      "Percentage of passengers who survived in Dean, Miss. Elizabeth Gladys Millvina\"\": 100.00%\n",
      "Percentage of passengers who survived in Dean, Mrs. Bertram (Eva Georgetta Light): 100.00%\n",
      "Percentage of passengers who survived in Delalic, Mr. Redjo: 0.00%\n",
      "Percentage of passengers who survived in Demetri, Mr. Marinko: 0.00%\n",
      "Percentage of passengers who survived in Denbury, Mr. Herbert: 0.00%\n",
      "Percentage of passengers who survived in Dennis, Mr. William: 0.00%\n",
      "Percentage of passengers who survived in Dibden, Mr. William: 0.00%\n",
      "Percentage of passengers who survived in Dika, Mr. Mirko: 0.00%\n",
      "Percentage of passengers who survived in Dintcheff, Mr. Valtcho: 0.00%\n",
      "Percentage of passengers who survived in Dodge, Dr. Washington: 0.00%\n",
      "Percentage of passengers who survived in Dodge, Mrs. Washington (Ruth Vidaver): 100.00%\n",
      "Percentage of passengers who survived in Douglas, Mrs. Frederick Charles (Mary Helene Baxter): 100.00%\n",
      "Percentage of passengers who survived in Douglas, Mrs. Walter Donald (Mahala Dutton): 100.00%\n",
      "Percentage of passengers who survived in Doyle, Miss. Elizabeth: 100.00%\n",
      "Percentage of passengers who survived in Drapkin, Miss. Jennie: 100.00%\n",
      "Percentage of passengers who survived in Drew, Master. Marshall Brines: 0.00%\n",
      "Percentage of passengers who survived in Drew, Mr. James Vivian: 0.00%\n",
      "Percentage of passengers who survived in Dulles, Mr. William Crothers: 0.00%\n",
      "Percentage of passengers who survived in Duquemin, Mr. Joseph: 0.00%\n",
      "Percentage of passengers who survived in Duran y More, Miss. Florentina: 100.00%\n",
      "Percentage of passengers who survived in Dyker, Mr. Adolf Fredrik: 0.00%\n",
      "Percentage of passengers who survived in Dyker, Mrs. Adolf Fredrik (Anna Elisabeth Judith Andersson): 100.00%\n",
      "Percentage of passengers who survived in Earnshaw, Mrs. Boulton (Olive Potter): 100.00%\n",
      "Percentage of passengers who survived in Elias, Mr. Joseph: 0.00%\n",
      "Percentage of passengers who survived in Enander, Mr. Ingvar: 0.00%\n",
      "Percentage of passengers who survived in Evans, Miss. Edith Corse: 100.00%\n",
      "Percentage of passengers who survived in Everett, Mr. Thomas James: 0.00%\n",
      "Percentage of passengers who survived in Faunthorpe, Mr. Harry: 0.00%\n",
      "Percentage of passengers who survived in Fillbrook, Mr. Joseph Charles: 0.00%\n",
      "Percentage of passengers who survived in Finoli, Mr. Luigi: 0.00%\n",
      "Percentage of passengers who survived in Flegenheim, Mrs. Alfred (Antoinette): 100.00%\n",
      "Percentage of passengers who survived in Fleming, Miss. Honora: 100.00%\n",
      "Percentage of passengers who survived in Foley, Mr. Joseph: 0.00%\n",
      "Percentage of passengers who survived in Foley, Mr. William: 0.00%\n",
      "Percentage of passengers who survived in Ford, Mr. Arthur: 0.00%\n",
      "Percentage of passengers who survived in Ford, Mr. Edward Watson: 0.00%\n",
      "Percentage of passengers who survived in Fortune, Miss. Ethel Flora: 100.00%\n",
      "Percentage of passengers who survived in Fortune, Mrs. Mark (Mary McDougald): 100.00%\n",
      "Percentage of passengers who survived in Fox, Mr. Patrick: 0.00%\n",
      "Percentage of passengers who survived in Franklin, Mr. Charles (Charles Fardon): 0.00%\n",
      "Percentage of passengers who survived in Franklin, Mr. Thomas Parham: 0.00%\n",
      "Percentage of passengers who survived in Frauenthal, Mr. Isaac Gerald: 0.00%\n",
      "Percentage of passengers who survived in Frolicher-Stehli, Mrs. Maxmillian (Margaretha Emerentia Stehli): 100.00%\n",
      "Percentage of passengers who survived in Gale, Mr. Harry: 0.00%\n",
      "Percentage of passengers who survived in Geiger, Miss. Amalie: 100.00%\n",
      "Percentage of passengers who survived in Gibson, Miss. Dorothy Winifred: 100.00%\n",
      "Percentage of passengers who survived in Gibson, Mrs. Leonard (Pauline C Boeson): 100.00%\n",
      "Percentage of passengers who survived in Gilbert, Mr. William: 0.00%\n",
      "Percentage of passengers who survived in Giles, Mr. Edgar: 0.00%\n",
      "Percentage of passengers who survived in Giles, Mr. Ralph: 0.00%\n",
      "Percentage of passengers who survived in Goldsmith, Mr. Nathan: 0.00%\n",
      "Percentage of passengers who survived in Goodwin, Miss. Jessie Allis: 100.00%\n",
      "Percentage of passengers who survived in Goodwin, Mr. Charles Frederick: 0.00%\n",
      "Percentage of passengers who survived in Gracie, Col. Archibald IV: 0.00%\n",
      "Percentage of passengers who survived in Greenfield, Mrs. Leo David (Blanche Strouse): 100.00%\n",
      "Percentage of passengers who survived in Guest, Mr. Robert: 0.00%\n",
      "Percentage of passengers who survived in Hagardon, Miss. Kate: 100.00%\n",
      "Percentage of passengers who survived in Hansen, Mrs. Claus Peter (Jennie L Howard): 100.00%\n",
      "Percentage of passengers who survived in Harbeck, Mr. William H: 0.00%\n",
      "Percentage of passengers who survived in Harder, Mrs. George Achilles (Dorothy Annan): 100.00%\n",
      "Percentage of passengers who survived in Hays, Mr. Charles Melville: 0.00%\n",
      "Percentage of passengers who survived in Head, Mr. Christopher: 0.00%\n",
      "Percentage of passengers who survived in Hee, Mr. Ling: 0.00%\n",
      "Percentage of passengers who survived in Hellstrom, Miss. Hilda Maria: 100.00%\n",
      "Percentage of passengers who survived in Henriksson, Miss. Jenny Lovisa: 100.00%\n",
      "Percentage of passengers who survived in Herman, Miss. Kate: 100.00%\n",
      "Percentage of passengers who survived in Herman, Mr. Samuel: 0.00%\n",
      "Percentage of passengers who survived in Hilliard, Mr. Herbert Henry: 0.00%\n",
      "Percentage of passengers who survived in Hiltunen, Miss. Marta: 100.00%\n",
      "Percentage of passengers who survived in Hipkins, Mr. William Edward: 0.00%\n",
      "Percentage of passengers who survived in Hirvonen, Mrs. Alexander (Helga E Lindqvist): 100.00%\n",
      "Percentage of passengers who survived in Hocking, Miss. Ellen Nellie\"\": 100.00%\n",
      "Percentage of passengers who survived in Hocking, Mr. Samuel James Metcalfe: 0.00%\n",
      "Percentage of passengers who survived in Hold, Mrs. Stephen (Annie Margaret Hill): 100.00%\n",
      "Percentage of passengers who survived in Holthen, Mr. Johan Martin: 0.00%\n",
      "Percentage of passengers who survived in Howard, Miss. May Elizabeth: 100.00%\n",
      "Percentage of passengers who survived in Howard, Mr. Benjamin: 0.00%\n",
      "Percentage of passengers who survived in Howard, Mrs. Benjamin (Ellen Truelove Arman): 100.00%\n",
      "Percentage of passengers who survived in Hyman, Mr. Abraham: 0.00%\n",
      "Percentage of passengers who survived in Ilieff, Mr. Ylio: 0.00%\n",
      "Percentage of passengers who survived in Ilmakangas, Miss. Ida Livija: 100.00%\n",
      "Percentage of passengers who survived in Ismay, Mr. Joseph Bruce: 0.00%\n",
      "Percentage of passengers who survived in Jefferys, Mr. Clifford Thomas: 0.00%\n",
      "Percentage of passengers who survived in Jefferys, Mr. Ernest Wilfred: 0.00%\n",
      "Percentage of passengers who survived in Johansson Palmquist, Mr. Oskar Leander: 0.00%\n",
      "Percentage of passengers who survived in Johansson, Mr. Nils: 0.00%\n",
      "Percentage of passengers who survived in Johnston, Master. William Arthur Willie\"\": 0.00%\n",
      "Percentage of passengers who survived in Johnston, Mrs. Andrew G (Elizabeth Lily\" Watson)\": 100.00%\n",
      "Percentage of passengers who survived in Jones, Mr. Charles Cresson: 0.00%\n",
      "Percentage of passengers who survived in Jonsson, Mr. Nils Hilding: 0.00%\n",
      "Percentage of passengers who survived in Julian, Mr. Henry Forbes: 0.00%\n",
      "Percentage of passengers who survived in Karlsson, Mr. Einar Gervasius: 0.00%\n",
      "Percentage of passengers who survived in Karlsson, Mr. Julius Konrad Eugen: 0.00%\n",
      "Percentage of passengers who survived in Karnes, Mrs. J Frank (Claire Bennett): 100.00%\n",
      "Percentage of passengers who survived in Karun, Mr. Franz: 0.00%\n",
      "Percentage of passengers who survived in Katavelas, Mr. Vassilios (Catavelas Vassilios\")\": 0.00%\n",
      "Percentage of passengers who survived in Keane, Mr. Daniel: 0.00%\n",
      "Percentage of passengers who survived in Keeping, Mr. Edwin: 0.00%\n",
      "Percentage of passengers who survived in Kelly, Mr. James: 0.00%\n",
      "Percentage of passengers who survived in Kennedy, Mr. John: 0.00%\n",
      "Percentage of passengers who survived in Kenyon, Mr. Frederick R: 0.00%\n",
      "Percentage of passengers who survived in Khalil, Mr. Betros: 0.00%\n",
      "Percentage of passengers who survived in Khalil, Mrs. Betros (Zahie Maria\" Elias)\": 100.00%\n",
      "Percentage of passengers who survived in Kiernan, Mr. John: 0.00%\n",
      "Percentage of passengers who survived in Kimball, Mrs. Edwin Nelson Jr (Gertrude Parsons): 100.00%\n",
      "Percentage of passengers who survived in Kink, Miss. Maria: 100.00%\n",
      "Percentage of passengers who survived in Kink-Heilmann, Mr. Anton: 0.00%\n",
      "Percentage of passengers who survived in Kink-Heilmann, Mrs. Anton (Luise Heilmann): 100.00%\n",
      "Percentage of passengers who survived in Klasen, Miss. Gertrud Emilia: 100.00%\n",
      "Percentage of passengers who survived in Klasen, Mrs. (Hulda Kristina Eugenia Lofqvist): 100.00%\n",
      "Percentage of passengers who survived in Krekorian, Mr. Neshan: 0.00%\n",
      "Percentage of passengers who survived in Kreuchen, Miss. Emilie: 100.00%\n",
      "Percentage of passengers who survived in Lahtinen, Rev. William: 0.00%\n",
      "Percentage of passengers who survived in Lamb, Mr. John Joseph: 0.00%\n",
      "Percentage of passengers who survived in Lane, Mr. Patrick: 0.00%\n",
      "Percentage of passengers who survived in Laroche, Miss. Louise: 100.00%\n",
      "Percentage of passengers who survived in Larsson-Rondberg, Mr. Edvard A: 0.00%\n",
      "Percentage of passengers who survived in Lefebre, Mrs. Frank (Frances): 100.00%\n",
      "Percentage of passengers who survived in Lennon, Miss. Mary: 100.00%\n",
      "Percentage of passengers who survived in Lindeberg-Lind, Mr. Erik Gustaf (Mr Edward Lingrey\")\": 0.00%\n",
      "Percentage of passengers who survived in Lindell, Mrs. Edvard Bengtsson (Elin Gerda Persson): 100.00%\n",
      "Percentage of passengers who survived in Lindstrom, Mrs. Carl Johan (Sigrid Posse): 100.00%\n",
      "Percentage of passengers who survived in Linehan, Mr. Michael: 0.00%\n",
      "Percentage of passengers who survived in Lines, Mrs. Ernest H (Elizabeth Lindsey James): 100.00%\n",
      "Percentage of passengers who survived in Lingane, Mr. John: 0.00%\n",
      "Percentage of passengers who survived in Lithman, Mr. Simon: 0.00%\n",
      "Percentage of passengers who survived in Lockyer, Mr. Edward: 0.00%\n",
      "Percentage of passengers who survived in Loring, Mr. Joseph Holland: 0.00%\n",
      "Percentage of passengers who survived in Louch, Mr. Charles Alexander: 0.00%\n",
      "Percentage of passengers who survived in Lundin, Miss. Olga Elida: 100.00%\n",
      "Percentage of passengers who survived in Lundstrom, Mr. Thure Edvin: 0.00%\n",
      "Percentage of passengers who survived in Lyntakoff, Mr. Stanko: 0.00%\n",
      "Percentage of passengers who survived in MacKay, Mr. George William: 0.00%\n",
      "Percentage of passengers who survived in Maguire, Mr. John Edward: 0.00%\n",
      "Percentage of passengers who survived in Mahon, Miss. Bridget Delia: 100.00%\n",
      "Percentage of passengers who survived in Mahon, Mr. John: 0.00%\n",
      "Percentage of passengers who survived in Makinen, Mr. Kalle Edvard: 0.00%\n",
      "Percentage of passengers who survived in Malachard, Mr. Noel: 0.00%\n",
      "Percentage of passengers who survived in Mallet, Mrs. Albert (Antoinette Magnin): 100.00%\n",
      "Percentage of passengers who survived in Mangiavacchi, Mr. Serafino Emilio: 0.00%\n",
      "Percentage of passengers who survived in Mardirosian, Mr. Sarkis: 0.00%\n",
      "Percentage of passengers who survived in Marvin, Mrs. Daniel Warner (Mary Graham Carmichael Farquarson): 100.00%\n",
      "Percentage of passengers who survived in Matinoff, Mr. Nicola: 0.00%\n",
      "Percentage of passengers who survived in Maybery, Mr. Frank Hubert: 0.00%\n",
      "Percentage of passengers who survived in McCaffry, Mr. Thomas Francis: 0.00%\n",
      "Percentage of passengers who survived in McCarthy, Miss. Catherine Katie\"\": 100.00%\n",
      "Percentage of passengers who survived in McCoy, Miss. Alicia: 100.00%\n",
      "Percentage of passengers who survived in McCrae, Mr. Arthur Gordon: 0.00%\n",
      "Percentage of passengers who survived in McCrie, Mr. James Matthew: 0.00%\n",
      "Percentage of passengers who survived in McGowan, Miss. Katherine: 100.00%\n",
      "Percentage of passengers who survived in McNamee, Mrs. Neal (Eileen O'Leary): 100.00%\n",
      "Percentage of passengers who survived in McNeill, Miss. Bridget: 100.00%\n",
      "Percentage of passengers who survived in Midtsjo, Mr. Karl Albert: 0.00%\n",
      "Percentage of passengers who survived in Miles, Mr. Frank: 0.00%\n",
      "Percentage of passengers who survived in Minahan, Mrs. William Edward (Lillian E Thorpe): 100.00%\n",
      "Percentage of passengers who survived in Minkoff, Mr. Lazar: 0.00%\n",
      "Percentage of passengers who survived in Mock, Mr. Philipp Edmund: 0.00%\n",
      "Percentage of passengers who survived in Moore, Mr. Clarence Bloomfield: 0.00%\n",
      "Percentage of passengers who survived in Moubarek, Mrs. George (Omine Amenia\" Alexander)\": 100.00%\n",
      "Percentage of passengers who survived in Mulvihill, Miss. Bertha E: 100.00%\n",
      "Percentage of passengers who survived in Murphy, Miss. Nora: 100.00%\n",
      "Percentage of passengers who survived in Myles, Mr. Thomas Francis: 0.00%\n",
      "Percentage of passengers who survived in Nakid, Mrs. Said (Waika Mary\" Mowad)\": 100.00%\n",
      "Percentage of passengers who survived in Nancarrow, Mr. William Henry: 0.00%\n",
      "Percentage of passengers who survived in Nasr, Mr. Mustafa: 0.00%\n",
      "Percentage of passengers who survived in Naughton, Miss. Hannah: 100.00%\n",
      "Percentage of passengers who survived in Nesson, Mr. Israel: 0.00%\n",
      "Percentage of passengers who survived in Nieminen, Miss. Manta Josefina: 100.00%\n",
      "Percentage of passengers who survived in Niklasson, Mr. Samuel: 0.00%\n",
      "Percentage of passengers who survived in Nilsson, Miss. Berta Olivia: 100.00%\n",
      "Percentage of passengers who survived in Nilsson, Mr. August Ferdinand: 0.00%\n",
      "Percentage of passengers who survived in Nourney, Mr. Alfred (Baron von Drachstedt\")\": 0.00%\n",
      "Percentage of passengers who survived in O'Connor, Mr. Patrick: 0.00%\n",
      "Percentage of passengers who survived in O'Donoghue, Ms. Bridget: 100.00%\n",
      "Percentage of passengers who survived in O'Keefe, Mr. Patrick: 0.00%\n",
      "Percentage of passengers who survived in Oliva y Ocana, Dona. Fermina: 100.00%\n",
      "Percentage of passengers who survived in Olsen, Master. Artur Karl: 0.00%\n",
      "Percentage of passengers who survived in Olsson, Mr. Oscar Wilhelm: 0.00%\n",
      "Percentage of passengers who survived in Omont, Mr. Alfred Fernand: 0.00%\n",
      "Percentage of passengers who survived in Oreskovic, Miss. Jelka: 100.00%\n",
      "Percentage of passengers who survived in Ostby, Miss. Helene Ragnhild: 100.00%\n",
      "Percentage of passengers who survived in Ovies y Rodriguez, Mr. Servando: 0.00%\n",
      "Percentage of passengers who survived in Oxenham, Mr. Percy Thomas: 0.00%\n",
      "Percentage of passengers who survived in Pallas y Castello, Mr. Emilio: 0.00%\n",
      "Percentage of passengers who survived in Palsson, Master. Paul Folke: 0.00%\n",
      "Percentage of passengers who survived in Parker, Mr. Clifford Richard: 0.00%\n",
      "Percentage of passengers who survived in Payne, Mr. Vivian Ponsonby: 0.00%\n",
      "Percentage of passengers who survived in Peacock, Master. Alfred Edward: 0.00%\n",
      "Percentage of passengers who survived in Peacock, Miss. Treasteall: 100.00%\n",
      "Percentage of passengers who survived in Peacock, Mrs. Benjamin (Edith Nile): 100.00%\n",
      "Percentage of passengers who survived in Pearce, Mr. Ernest: 0.00%\n",
      "Percentage of passengers who survived in Pedersen, Mr. Olaf: 0.00%\n",
      "Percentage of passengers who survived in Peltomaki, Mr. Nikolai Johannes: 0.00%\n",
      "Percentage of passengers who survived in Peruschitz, Rev. Joseph Maria: 0.00%\n",
      "Percentage of passengers who survived in Peter, Master. Michael J: 0.00%\n",
      "Percentage of passengers who survived in Petersen, Mr. Marius: 0.00%\n",
      "Percentage of passengers who survived in Phillips, Miss. Alice Frances Louisa: 100.00%\n",
      "Percentage of passengers who survived in Phillips, Mr. Escott Robert: 0.00%\n",
      "Percentage of passengers who survived in Pokrnic, Mr. Mate: 0.00%\n",
      "Percentage of passengers who survived in Pokrnic, Mr. Tome: 0.00%\n",
      "Percentage of passengers who survived in Portaluppi, Mr. Emilio Ilario Giuseppe: 0.00%\n",
      "Percentage of passengers who survived in Pulbaum, Mr. Franz: 0.00%\n",
      "Percentage of passengers who survived in Quick, Miss. Winifred Vera: 100.00%\n",
      "Percentage of passengers who survived in Rasmussen, Mrs. (Lena Jacobsen Solvang): 100.00%\n",
      "Percentage of passengers who survived in Reynolds, Mr. Harold J: 0.00%\n",
      "Percentage of passengers who survived in Rheims, Mr. George Alexander Lucien: 0.00%\n",
      "Percentage of passengers who survived in Rice, Master. Albert: 0.00%\n",
      "Percentage of passengers who survived in Riihivouri, Miss. Susanna Juhantytar Sanni\"\": 100.00%\n",
      "Percentage of passengers who survived in Riordan, Miss. Johanna Hannah\"\": 100.00%\n",
      "Percentage of passengers who survived in Risien, Mrs. Samuel (Emma): 100.00%\n",
      "Percentage of passengers who survived in Robins, Mr. Alexander A: 0.00%\n",
      "Percentage of passengers who survived in Rogers, Mr. Reginald Harry: 0.00%\n",
      "Percentage of passengers who survived in Rosblom, Miss. Salli Helena: 100.00%\n",
      "Percentage of passengers who survived in Rosenbaum, Miss. Edith Louise: 100.00%\n",
      "Percentage of passengers who survived in Rosenshine, Mr. George (Mr George Thorne\")\": 0.00%\n",
      "Percentage of passengers who survived in Roth, Miss. Sarah A: 100.00%\n",
      "Percentage of passengers who survived in Rothschild, Mr. Martin: 0.00%\n",
      "Percentage of passengers who survived in Rowe, Mr. Alfred G: 0.00%\n",
      "Percentage of passengers who survived in Ryan, Mr. Edward: 0.00%\n",
      "Percentage of passengers who survived in Ryerson, Master. John Borie: 0.00%\n",
      "Percentage of passengers who survived in Ryerson, Mr. Arthur Larned: 0.00%\n",
      "Percentage of passengers who survived in Ryerson, Mrs. Arthur Larned (Emily Maria Borie): 100.00%\n",
      "Percentage of passengers who survived in Saade, Mr. Jean Nassr: 0.00%\n",
      "Percentage of passengers who survived in Sadowitz, Mr. Harry: 0.00%\n",
      "Percentage of passengers who survived in Saether, Mr. Simon Sivertsen: 0.00%\n",
      "Percentage of passengers who survived in Sage, Master. William Henry: 0.00%\n",
      "Percentage of passengers who survived in Sage, Miss. Ada: 100.00%\n",
      "Percentage of passengers who survived in Sage, Mr. John George: 0.00%\n",
      "Percentage of passengers who survived in Sage, Mrs. John (Annie Bullen): 100.00%\n",
      "Percentage of passengers who survived in Salander, Mr. Karl Johan: 0.00%\n",
      "Percentage of passengers who survived in Salomon, Mr. Abraham L: 0.00%\n",
      "Percentage of passengers who survived in Samaan, Mr. Elias: 0.00%\n",
      "Percentage of passengers who survived in Samaan, Mr. Hanna: 0.00%\n",
      "Percentage of passengers who survived in Sandstrom, Miss. Beatrice Irene: 100.00%\n",
      "Percentage of passengers who survived in Sap, Mr. Julius: 0.00%\n",
      "Percentage of passengers who survived in Schabert, Mrs. Paul (Emma Mock): 100.00%\n",
      "Percentage of passengers who survived in Schmidt, Mr. August: 0.00%\n",
      "Percentage of passengers who survived in Shaughnessy, Mr. Patrick: 0.00%\n",
      "Percentage of passengers who survived in Shine, Miss. Ellen Natalia: 100.00%\n",
      "Percentage of passengers who survived in Sincock, Miss. Maude: 100.00%\n",
      "Percentage of passengers who survived in Smith, Mr. Lucien Philip: 0.00%\n",
      "Percentage of passengers who survived in Smith, Mrs. Lucien Philip (Mary Eloise Hughes): 100.00%\n",
      "Percentage of passengers who survived in Smyth, Miss. Julia: 100.00%\n",
      "Percentage of passengers who survived in Snyder, Mr. John Pillsbury: 0.00%\n",
      "Percentage of passengers who survived in Snyder, Mrs. John Pillsbury (Nelle Stevenson): 100.00%\n",
      "Percentage of passengers who survived in Spector, Mr. Woolf: 0.00%\n",
      "Percentage of passengers who survived in Spedden, Master. Robert Douglas: 0.00%\n",
      "Percentage of passengers who survived in Spedden, Mr. Frederic Oakley: 0.00%\n",
      "Percentage of passengers who survived in Spencer, Mr. William Augustus: 0.00%\n",
      "Percentage of passengers who survived in Spinner, Mr. Henry John: 0.00%\n",
      "Percentage of passengers who survived in Stanton, Mr. Samuel Ward: 0.00%\n",
      "Percentage of passengers who survived in Stengel, Mr. Charles Emil Henry: 0.00%\n",
      "Percentage of passengers who survived in Stengel, Mrs. Charles Emil Henry (Annie May Morris): 100.00%\n",
      "Percentage of passengers who survived in Stokes, Mr. Philip Joseph: 0.00%\n",
      "Percentage of passengers who survived in Storey, Mr. Thomas: 0.00%\n",
      "Percentage of passengers who survived in Straus, Mr. Isidor: 0.00%\n",
      "Percentage of passengers who survived in Straus, Mrs. Isidor (Rosalie Ida Blun): 100.00%\n",
      "Percentage of passengers who survived in Strilic, Mr. Ivan: 0.00%\n",
      "Percentage of passengers who survived in Svensson, Mr. Johan Cervin: 0.00%\n",
      "Percentage of passengers who survived in Swane, Mr. George: 0.00%\n",
      "Percentage of passengers who survived in Sweet, Mr. George Frederick: 0.00%\n",
      "Percentage of passengers who survived in Tenglin, Mr. Gunnar Isidor: 0.00%\n",
      "Percentage of passengers who survived in Thomas, Mr. Charles P: 0.00%\n",
      "Percentage of passengers who survived in Thomas, Mr. John: 0.00%\n",
      "Percentage of passengers who survived in Thomas, Mr. Tannous: 0.00%\n",
      "Percentage of passengers who survived in Thomas, Mrs. Alexander (Thamine Thelma\")\": 100.00%\n",
      "Percentage of passengers who survived in Thomson, Mr. Alexander Morrison: 0.00%\n",
      "Percentage of passengers who survived in Torfa, Mr. Assad: 0.00%\n",
      "Percentage of passengers who survived in Touma, Master. Georges Youssef: 0.00%\n",
      "Percentage of passengers who survived in Touma, Miss. Maria Youssef: 100.00%\n",
      "Percentage of passengers who survived in Tucker, Mr. Gilbert Milligan Jr: 0.00%\n",
      "Percentage of passengers who survived in Vander Planke, Mr. Julius: 0.00%\n",
      "Percentage of passengers who survived in Vartanian, Mr. David: 0.00%\n",
      "Percentage of passengers who survived in Veal, Mr. James: 0.00%\n",
      "Percentage of passengers who survived in Vendel, Mr. Olof Edvin: 0.00%\n",
      "Percentage of passengers who survived in Walcroft, Miss. Nellie: 100.00%\n",
      "Percentage of passengers who survived in Ware, Mr. Frederick: 0.00%\n",
      "Percentage of passengers who survived in Ware, Mr. John James: 0.00%\n",
      "Percentage of passengers who survived in Ware, Mr. William Jeffery: 0.00%\n",
      "Percentage of passengers who survived in Ware, Mrs. John James (Florence Louise Long): 100.00%\n",
      "Percentage of passengers who survived in Warren, Mr. Charles William: 0.00%\n",
      "Percentage of passengers who survived in Warren, Mr. Frank Manley: 0.00%\n",
      "Percentage of passengers who survived in Watt, Miss. Bertha J: 100.00%\n",
      "Percentage of passengers who survived in Weisz, Mr. Leopold: 0.00%\n",
      "Percentage of passengers who survived in Wells, Master. Ralph Lester: 0.00%\n",
      "Percentage of passengers who survived in Wells, Mrs. Arthur Henry (Addie\" Dart Trevaskis)\": 100.00%\n",
      "Percentage of passengers who survived in Wenzel, Mr. Linhart: 0.00%\n",
      "Percentage of passengers who survived in West, Miss. Barbara J: 100.00%\n",
      "Percentage of passengers who survived in Whabee, Mrs. George Joseph (Shawneene Abi-Saab): 100.00%\n",
      "Percentage of passengers who survived in Wheeler, Mr. Edwin Frederick\"\": 0.00%\n",
      "Percentage of passengers who survived in White, Mrs. John Stuart (Ella Holmes): 100.00%\n",
      "Percentage of passengers who survived in Wick, Mr. George Dennick: 0.00%\n",
      "Percentage of passengers who survived in Widener, Mr. George Dunton: 0.00%\n",
      "Percentage of passengers who survived in Widener, Mrs. George Dunton (Eleanor Elkins): 100.00%\n",
      "Percentage of passengers who survived in Wiklund, Mr. Karl Johan: 0.00%\n",
      "Percentage of passengers who survived in Wilkes, Mrs. James (Ellen Needs): 100.00%\n",
      "Percentage of passengers who survived in Willard, Miss. Constance: 100.00%\n",
      "Percentage of passengers who survived in Willer, Mr. Aaron (Abi Weller\")\": 0.00%\n",
      "Percentage of passengers who survived in Williams, Mr. Richard Norris II: 0.00%\n",
      "Percentage of passengers who survived in Wilson, Miss. Helen Alice: 100.00%\n",
      "Percentage of passengers who survived in Wirz, Mr. Albert: 0.00%\n",
      "Percentage of passengers who survived in Wittevrongel, Mr. Camille: 0.00%\n",
      "Percentage of passengers who survived in Wright, Miss. Marion: 100.00%\n",
      "Percentage of passengers who survived in Zakarian, Mr. Mapriededer: 0.00%\n",
      "Percentage of passengers who survived in Zakarian, Mr. Ortin: 0.00%\n",
      "Percentage of passengers who survived in de Brito, Mr. Jose Joaquim: 0.00%\n",
      "Percentage of passengers who survived in de Messemaeker, Mr. Guillaume Joseph: 0.00%\n",
      "Percentage of passengers who survived in del Carlo, Mrs. Sebastiano (Argenia Genovesi): 100.00%\n",
      "Percentage of passengers who survived in van Billiard, Master. James William: 0.00%\n",
      "Percentage of passengers who survived in van Billiard, Master. Walter John: 0.00%\n"
     ]
    }
   ],
   "source": [
    "# Group the DataFrame by 'Name' and calculate the mean survival rate\n",
    "survival_mean_by_name = df.groupby(['Name'])['Survived'].mean() * 100\n",
    "\n",
    "for name, percentage in survival_mean_by_name.items():\n",
    "    print(f\"Percentage of passengers who survived in {name}: {percentage:.2f}%\")"
   ]
  },
  {
   "cell_type": "code",
   "execution_count": 30,
   "id": "eb8ab6ef",
   "metadata": {
    "execution": {
     "iopub.execute_input": "2023-10-06T11:06:01.865282Z",
     "iopub.status.busy": "2023-10-06T11:06:01.864871Z",
     "iopub.status.idle": "2023-10-06T11:06:01.871686Z",
     "shell.execute_reply": "2023-10-06T11:06:01.870970Z"
    },
    "papermill": {
     "duration": 0.025822,
     "end_time": "2023-10-06T11:06:01.873679",
     "exception": false,
     "start_time": "2023-10-06T11:06:01.847857",
     "status": "completed"
    },
    "tags": []
   },
   "outputs": [
    {
     "name": "stdout",
     "output_type": "stream",
     "text": [
      "Percentage of passengers who survived in 0: 31.10%\n",
      "Percentage of passengers who survived in 1: 49.09%\n",
      "Percentage of passengers who survived in 2: 42.86%\n",
      "Percentage of passengers who survived in 3: 25.00%\n",
      "Percentage of passengers who survived in 4: 25.00%\n",
      "Percentage of passengers who survived in 5: 100.00%\n",
      "Percentage of passengers who survived in 8: 50.00%\n"
     ]
    }
   ],
   "source": [
    "# Group the DataFrame by 'SibSp' and calculate the mean survival rate\n",
    "survival_mean_by_SibSp = df.groupby(['SibSp'])['Survived'].mean() * 100\n",
    "\n",
    "for sibsp, percentage in survival_mean_by_SibSp.items():\n",
    "    print(f\"Percentage of passengers who survived in {sibsp}: {percentage:.2f}%\")\n"
   ]
  },
  {
   "cell_type": "code",
   "execution_count": 31,
   "id": "028391da",
   "metadata": {
    "execution": {
     "iopub.execute_input": "2023-10-06T11:06:01.907031Z",
     "iopub.status.busy": "2023-10-06T11:06:01.906630Z",
     "iopub.status.idle": "2023-10-06T11:06:01.913321Z",
     "shell.execute_reply": "2023-10-06T11:06:01.912602Z"
    },
    "papermill": {
     "duration": 0.025942,
     "end_time": "2023-10-06T11:06:01.915411",
     "exception": false,
     "start_time": "2023-10-06T11:06:01.889469",
     "status": "completed"
    },
    "tags": []
   },
   "outputs": [
    {
     "name": "stdout",
     "output_type": "stream",
     "text": [
      "Percentage of passengers who survived in 0: 30.56%\n",
      "Percentage of passengers who survived in 1: 53.85%\n",
      "Percentage of passengers who survived in 2: 60.61%\n",
      "Percentage of passengers who survived in 3: 66.67%\n",
      "Percentage of passengers who survived in 4: 100.00%\n",
      "Percentage of passengers who survived in 5: 0.00%\n",
      "Percentage of passengers who survived in 6: 0.00%\n",
      "Percentage of passengers who survived in 9: 50.00%\n"
     ]
    }
   ],
   "source": [
    "# Group the DataFrame by 'Parch' and calculate the mean survival rate\n",
    "survival_mean_by_Parch = df.groupby(['Parch'])['Survived'].mean() * 100\n",
    "\n",
    "for parch, percentage in survival_mean_by_Parch.items():\n",
    "    print(f\"Percentage of passengers who survived in {parch}: {percentage:.2f}%\")\n",
    "\n"
   ]
  },
  {
   "cell_type": "code",
   "execution_count": 32,
   "id": "38a126f2",
   "metadata": {
    "execution": {
     "iopub.execute_input": "2023-10-06T11:06:01.948326Z",
     "iopub.status.busy": "2023-10-06T11:06:01.947909Z",
     "iopub.status.idle": "2023-10-06T11:06:01.957540Z",
     "shell.execute_reply": "2023-10-06T11:06:01.956748Z"
    },
    "papermill": {
     "duration": 0.02899,
     "end_time": "2023-10-06T11:06:01.959992",
     "exception": false,
     "start_time": "2023-10-06T11:06:01.931002",
     "status": "completed"
    },
    "tags": []
   },
   "outputs": [
    {
     "name": "stdout",
     "output_type": "stream",
     "text": [
      "Percentage of passengers who survived in 110469: 0.00%\n",
      "Percentage of passengers who survived in 110489: 0.00%\n",
      "Percentage of passengers who survived in 110813: 0.00%\n",
      "Percentage of passengers who survived in 111163: 0.00%\n",
      "Percentage of passengers who survived in 112051: 0.00%\n",
      "Percentage of passengers who survived in 112058: 0.00%\n",
      "Percentage of passengers who survived in 112377: 100.00%\n",
      "Percentage of passengers who survived in 112378: 100.00%\n",
      "Percentage of passengers who survived in 112901: 100.00%\n",
      "Percentage of passengers who survived in 113038: 0.00%\n",
      "Percentage of passengers who survived in 113044: 0.00%\n",
      "Percentage of passengers who survived in 113054: 0.00%\n",
      "Percentage of passengers who survived in 113059: 0.00%\n",
      "Percentage of passengers who survived in 113503: 50.00%\n",
      "Percentage of passengers who survived in 113509: 100.00%\n",
      "Percentage of passengers who survived in 113773: 100.00%\n",
      "Percentage of passengers who survived in 113778: 0.00%\n",
      "Percentage of passengers who survived in 113780: 0.00%\n",
      "Percentage of passengers who survived in 113781: 50.00%\n",
      "Percentage of passengers who survived in 113790: 0.00%\n",
      "Percentage of passengers who survived in 113791: 0.00%\n",
      "Percentage of passengers who survived in 113795: 100.00%\n",
      "Percentage of passengers who survived in 113796: 0.00%\n",
      "Percentage of passengers who survived in 113801: 0.00%\n",
      "Percentage of passengers who survived in 11753: 100.00%\n",
      "Percentage of passengers who survived in 11765: 100.00%\n",
      "Percentage of passengers who survived in 11767: 100.00%\n",
      "Percentage of passengers who survived in 11769: 100.00%\n",
      "Percentage of passengers who survived in 11770: 100.00%\n",
      "Percentage of passengers who survived in 11778: 50.00%\n",
      "Percentage of passengers who survived in 11813: 100.00%\n",
      "Percentage of passengers who survived in 1222: 0.00%\n",
      "Percentage of passengers who survived in 12749: 0.00%\n",
      "Percentage of passengers who survived in 13050: 0.00%\n",
      "Percentage of passengers who survived in 13236: 50.00%\n",
      "Percentage of passengers who survived in 13508: 50.00%\n",
      "Percentage of passengers who survived in 13567: 100.00%\n",
      "Percentage of passengers who survived in 13695: 50.00%\n",
      "Percentage of passengers who survived in 13905: 0.00%\n",
      "Percentage of passengers who survived in 1601: 0.00%\n",
      "Percentage of passengers who survived in 16966: 33.33%\n",
      "Percentage of passengers who survived in 17463: 0.00%\n",
      "Percentage of passengers who survived in 17464: 0.00%\n",
      "Percentage of passengers who survived in 17475: 0.00%\n",
      "Percentage of passengers who survived in 17765: 0.00%\n",
      "Percentage of passengers who survived in 17770: 100.00%\n",
      "Percentage of passengers who survived in 19877: 100.00%\n",
      "Percentage of passengers who survived in 19924: 0.00%\n",
      "Percentage of passengers who survived in 19928: 100.00%\n",
      "Percentage of passengers who survived in 19950: 100.00%\n",
      "Percentage of passengers who survived in 2003: 0.00%\n",
      "Percentage of passengers who survived in 211535: 0.00%\n",
      "Percentage of passengers who survived in 21228: 50.00%\n",
      "Percentage of passengers who survived in 21332: 0.00%\n",
      "Percentage of passengers who survived in 220844: 100.00%\n",
      "Percentage of passengers who survived in 220845: 33.33%\n",
      "Percentage of passengers who survived in 226875: 0.00%\n",
      "Percentage of passengers who survived in 228414: 0.00%\n",
      "Percentage of passengers who survived in 230136: 100.00%\n",
      "Percentage of passengers who survived in 233478: 0.00%\n",
      "Percentage of passengers who survived in 233734: 0.00%\n",
      "Percentage of passengers who survived in 235509: 0.00%\n",
      "Percentage of passengers who survived in 236853: 100.00%\n",
      "Percentage of passengers who survived in 236854: 0.00%\n",
      "Percentage of passengers who survived in 237216: 0.00%\n",
      "Percentage of passengers who survived in 237249: 100.00%\n",
      "Percentage of passengers who survived in 237393: 0.00%\n",
      "Percentage of passengers who survived in 237670: 0.00%\n",
      "Percentage of passengers who survived in 237734: 0.00%\n",
      "Percentage of passengers who survived in 237735: 0.00%\n",
      "Percentage of passengers who survived in 237789: 100.00%\n",
      "Percentage of passengers who survived in 239059: 0.00%\n",
      "Percentage of passengers who survived in 240261: 0.00%\n",
      "Percentage of passengers who survived in 240276: 0.00%\n",
      "Percentage of passengers who survived in 24065: 50.00%\n",
      "Percentage of passengers who survived in 24160: 100.00%\n",
      "Percentage of passengers who survived in 242963: 0.00%\n",
      "Percentage of passengers who survived in 244346: 0.00%\n",
      "Percentage of passengers who survived in 244358: 0.00%\n",
      "Percentage of passengers who survived in 244360: 0.00%\n",
      "Percentage of passengers who survived in 244368: 0.00%\n",
      "Percentage of passengers who survived in 248659: 0.00%\n",
      "Percentage of passengers who survived in 248726: 0.00%\n",
      "Percentage of passengers who survived in 248734: 0.00%\n",
      "Percentage of passengers who survived in 248738: 0.00%\n",
      "Percentage of passengers who survived in 248744: 0.00%\n",
      "Percentage of passengers who survived in 248746: 0.00%\n",
      "Percentage of passengers who survived in 250650: 100.00%\n",
      "Percentage of passengers who survived in 250651: 0.00%\n",
      "Percentage of passengers who survived in 2543: 0.00%\n",
      "Percentage of passengers who survived in 2621: 0.00%\n",
      "Percentage of passengers who survived in 2622: 0.00%\n",
      "Percentage of passengers who survived in 2625: 100.00%\n",
      "Percentage of passengers who survived in 26360: 100.00%\n",
      "Percentage of passengers who survived in 2650: 50.00%\n",
      "Percentage of passengers who survived in 2652: 0.00%\n",
      "Percentage of passengers who survived in 2653: 100.00%\n",
      "Percentage of passengers who survived in 2654: 0.00%\n",
      "Percentage of passengers who survived in 2655: 0.00%\n",
      "Percentage of passengers who survived in 2656: 0.00%\n",
      "Percentage of passengers who survived in 2657: 100.00%\n",
      "Percentage of passengers who survived in 2658: 0.00%\n",
      "Percentage of passengers who survived in 2660: 50.00%\n",
      "Percentage of passengers who survived in 2661: 100.00%\n",
      "Percentage of passengers who survived in 2662: 0.00%\n",
      "Percentage of passengers who survived in 2668: 0.00%\n",
      "Percentage of passengers who survived in 2670: 0.00%\n",
      "Percentage of passengers who survived in 26707: 100.00%\n",
      "Percentage of passengers who survived in 2673: 0.00%\n",
      "Percentage of passengers who survived in 2675: 0.00%\n",
      "Percentage of passengers who survived in 2676: 0.00%\n",
      "Percentage of passengers who survived in 2678: 0.00%\n",
      "Percentage of passengers who survived in 2679: 0.00%\n",
      "Percentage of passengers who survived in 2680: 0.00%\n",
      "Percentage of passengers who survived in 2681: 0.00%\n",
      "Percentage of passengers who survived in 2682: 0.00%\n",
      "Percentage of passengers who survived in 2684: 0.00%\n",
      "Percentage of passengers who survived in 2688: 100.00%\n",
      "Percentage of passengers who survived in 2689: 0.00%\n",
      "Percentage of passengers who survived in 2692: 0.00%\n",
      "Percentage of passengers who survived in 2696: 100.00%\n",
      "Percentage of passengers who survived in 2698: 0.00%\n",
      "Percentage of passengers who survived in 28004: 0.00%\n",
      "Percentage of passengers who survived in 28034: 0.00%\n",
      "Percentage of passengers who survived in 28133: 0.00%\n",
      "Percentage of passengers who survived in 28220: 0.00%\n",
      "Percentage of passengers who survived in 28221: 0.00%\n",
      "Percentage of passengers who survived in 28404: 100.00%\n",
      "Percentage of passengers who survived in 28664: 0.00%\n",
      "Percentage of passengers who survived in 28666: 0.00%\n",
      "Percentage of passengers who survived in 29103: 50.00%\n",
      "Percentage of passengers who survived in 29105: 100.00%\n",
      "Percentage of passengers who survived in 29107: 0.00%\n",
      "Percentage of passengers who survived in 2926: 0.00%\n",
      "Percentage of passengers who survived in 29750: 100.00%\n",
      "Percentage of passengers who survived in 3101266: 0.00%\n",
      "Percentage of passengers who survived in 3101295: 100.00%\n",
      "Percentage of passengers who survived in 3101297: 100.00%\n",
      "Percentage of passengers who survived in 3101298: 100.00%\n",
      "Percentage of passengers who survived in 315083: 0.00%\n",
      "Percentage of passengers who survived in 315085: 100.00%\n",
      "Percentage of passengers who survived in 315087: 100.00%\n",
      "Percentage of passengers who survived in 315091: 0.00%\n",
      "Percentage of passengers who survived in 315092: 0.00%\n",
      "Percentage of passengers who survived in 315095: 0.00%\n",
      "Percentage of passengers who survived in 315152: 100.00%\n",
      "Percentage of passengers who survived in 315153: 50.00%\n",
      "Percentage of passengers who survived in 315154: 0.00%\n",
      "Percentage of passengers who survived in 32302: 0.00%\n",
      "Percentage of passengers who survived in 329944: 100.00%\n",
      "Percentage of passengers who survived in 330844: 100.00%\n",
      "Percentage of passengers who survived in 330910: 0.00%\n",
      "Percentage of passengers who survived in 330911: 0.00%\n",
      "Percentage of passengers who survived in 330920: 0.00%\n",
      "Percentage of passengers who survived in 330924: 100.00%\n",
      "Percentage of passengers who survived in 330963: 100.00%\n",
      "Percentage of passengers who survived in 330968: 100.00%\n",
      "Percentage of passengers who survived in 330971: 0.00%\n",
      "Percentage of passengers who survived in 330972: 100.00%\n",
      "Percentage of passengers who survived in 334914: 100.00%\n",
      "Percentage of passengers who survived in 334915: 100.00%\n",
      "Percentage of passengers who survived in 335432: 100.00%\n",
      "Percentage of passengers who survived in 33638: 50.00%\n",
      "Percentage of passengers who survived in 3410: 0.00%\n",
      "Percentage of passengers who survived in 342441: 0.00%\n",
      "Percentage of passengers who survived in 342684: 0.00%\n",
      "Percentage of passengers who survived in 342712: 100.00%\n",
      "Percentage of passengers who survived in 343271: 0.00%\n",
      "Percentage of passengers who survived in 345498: 0.00%\n",
      "Percentage of passengers who survived in 345501: 0.00%\n",
      "Percentage of passengers who survived in 345572: 0.00%\n",
      "Percentage of passengers who survived in 345763: 0.00%\n",
      "Percentage of passengers who survived in 345768: 0.00%\n",
      "Percentage of passengers who survived in 345771: 0.00%\n",
      "Percentage of passengers who survived in 345775: 0.00%\n",
      "Percentage of passengers who survived in 3470: 0.00%\n",
      "Percentage of passengers who survived in 347065: 0.00%\n",
      "Percentage of passengers who survived in 347066: 100.00%\n",
      "Percentage of passengers who survived in 347070: 0.00%\n",
      "Percentage of passengers who survived in 347072: 50.00%\n",
      "Percentage of passengers who survived in 347075: 0.00%\n",
      "Percentage of passengers who survived in 347077: 0.00%\n",
      "Percentage of passengers who survived in 347079: 0.00%\n",
      "Percentage of passengers who survived in 347080: 0.00%\n",
      "Percentage of passengers who survived in 347086: 100.00%\n",
      "Percentage of passengers who survived in 347090: 0.00%\n",
      "Percentage of passengers who survived in 347091: 100.00%\n",
      "Percentage of passengers who survived in 347465: 0.00%\n",
      "Percentage of passengers who survived in 347467: 0.00%\n",
      "Percentage of passengers who survived in 347469: 100.00%\n",
      "Percentage of passengers who survived in 347471: 100.00%\n",
      "Percentage of passengers who survived in 348122: 0.00%\n",
      "Percentage of passengers who survived in 348125: 100.00%\n",
      "Percentage of passengers who survived in 349202: 0.00%\n",
      "Percentage of passengers who survived in 349211: 0.00%\n",
      "Percentage of passengers who survived in 349220: 0.00%\n",
      "Percentage of passengers who survived in 349226: 0.00%\n",
      "Percentage of passengers who survived in 349229: 0.00%\n",
      "Percentage of passengers who survived in 349230: 0.00%\n",
      "Percentage of passengers who survived in 349232: 0.00%\n",
      "Percentage of passengers who survived in 349235: 0.00%\n",
      "Percentage of passengers who survived in 349238: 0.00%\n",
      "Percentage of passengers who survived in 349250: 0.00%\n",
      "Percentage of passengers who survived in 349255: 0.00%\n",
      "Percentage of passengers who survived in 349256: 0.00%\n",
      "Percentage of passengers who survived in 349909: 0.00%\n",
      "Percentage of passengers who survived in 349910: 100.00%\n",
      "Percentage of passengers who survived in 349911: 0.00%\n",
      "Percentage of passengers who survived in 350026: 100.00%\n",
      "Percentage of passengers who survived in 350033: 0.00%\n",
      "Percentage of passengers who survived in 350045: 0.00%\n",
      "Percentage of passengers who survived in 350053: 0.00%\n",
      "Percentage of passengers who survived in 350054: 0.00%\n",
      "Percentage of passengers who survived in 350403: 0.00%\n",
      "Percentage of passengers who survived in 350405: 100.00%\n",
      "Percentage of passengers who survived in 350408: 0.00%\n",
      "Percentage of passengers who survived in 350409: 0.00%\n",
      "Percentage of passengers who survived in 350410: 0.00%\n",
      "Percentage of passengers who survived in 350416: 0.00%\n",
      "Percentage of passengers who survived in 359306: 0.00%\n",
      "Percentage of passengers who survived in 359309: 0.00%\n",
      "Percentage of passengers who survived in 363272: 100.00%\n",
      "Percentage of passengers who survived in 363611: 0.00%\n",
      "Percentage of passengers who survived in 364498: 100.00%\n",
      "Percentage of passengers who survived in 364856: 100.00%\n",
      "Percentage of passengers who survived in 364858: 0.00%\n",
      "Percentage of passengers who survived in 364859: 100.00%\n",
      "Percentage of passengers who survived in 365235: 0.00%\n",
      "Percentage of passengers who survived in 365237: 100.00%\n",
      "Percentage of passengers who survived in 36568: 100.00%\n",
      "Percentage of passengers who survived in 366713: 0.00%\n",
      "Percentage of passengers who survived in 367226: 100.00%\n",
      "Percentage of passengers who survived in 367227: 0.00%\n",
      "Percentage of passengers who survived in 368364: 100.00%\n",
      "Percentage of passengers who survived in 368402: 0.00%\n",
      "Percentage of passengers who survived in 368573: 0.00%\n",
      "Percentage of passengers who survived in 368702: 100.00%\n",
      "Percentage of passengers who survived in 368783: 0.00%\n",
      "Percentage of passengers who survived in 36928: 50.00%\n",
      "Percentage of passengers who survived in 3701: 0.00%\n",
      "Percentage of passengers who survived in 370129: 100.00%\n",
      "Percentage of passengers who survived in 370368: 100.00%\n",
      "Percentage of passengers who survived in 370371: 100.00%\n",
      "Percentage of passengers who survived in 370374: 0.00%\n",
      "Percentage of passengers who survived in 371109: 0.00%\n",
      "Percentage of passengers who survived in 371362: 100.00%\n",
      "Percentage of passengers who survived in 376563: 0.00%\n",
      "Percentage of passengers who survived in 376566: 100.00%\n",
      "Percentage of passengers who survived in 382650: 100.00%\n",
      "Percentage of passengers who survived in 382652: 0.00%\n",
      "Percentage of passengers who survived in 382653: 100.00%\n",
      "Percentage of passengers who survived in 383123: 100.00%\n",
      "Percentage of passengers who survived in 383162: 0.00%\n",
      "Percentage of passengers who survived in 386525: 0.00%\n",
      "Percentage of passengers who survived in 392091: 0.00%\n",
      "Percentage of passengers who survived in 392095: 0.00%\n",
      "Percentage of passengers who survived in 4133: 100.00%\n",
      "Percentage of passengers who survived in 65305: 100.00%\n",
      "Percentage of passengers who survived in 680: 0.00%\n",
      "Percentage of passengers who survived in 694: 0.00%\n",
      "Percentage of passengers who survived in 7266: 0.00%\n",
      "Percentage of passengers who survived in 7538: 0.00%\n",
      "Percentage of passengers who survived in 7548: 100.00%\n",
      "Percentage of passengers who survived in 7935: 0.00%\n",
      "Percentage of passengers who survived in 9232: 100.00%\n",
      "Percentage of passengers who survived in A. 2. 39186: 100.00%\n",
      "Percentage of passengers who survived in A./5. 3338: 0.00%\n",
      "Percentage of passengers who survived in A.5. 3236: 0.00%\n",
      "Percentage of passengers who survived in A/4 31416: 100.00%\n",
      "Percentage of passengers who survived in A/4 48871: 0.00%\n",
      "Percentage of passengers who survived in A/4 48873: 0.00%\n",
      "Percentage of passengers who survived in A/5 1478: 0.00%\n",
      "Percentage of passengers who survived in A/5 21175: 0.00%\n",
      "Percentage of passengers who survived in A/5. 3337: 0.00%\n",
      "Percentage of passengers who survived in A/5. 851: 0.00%\n",
      "Percentage of passengers who survived in AQ/3. 30631: 100.00%\n",
      "Percentage of passengers who survived in AQ/4 3130: 0.00%\n",
      "Percentage of passengers who survived in C 17368: 0.00%\n",
      "Percentage of passengers who survived in C 4001: 0.00%\n",
      "Percentage of passengers who survived in C.A. 15185: 0.00%\n",
      "Percentage of passengers who survived in C.A. 2315: 100.00%\n",
      "Percentage of passengers who survived in C.A. 2673: 0.00%\n",
      "Percentage of passengers who survived in C.A. 30769: 0.00%\n",
      "Percentage of passengers who survived in C.A. 31029: 0.00%\n",
      "Percentage of passengers who survived in C.A. 31030: 0.00%\n",
      "Percentage of passengers who survived in C.A. 33112: 100.00%\n",
      "Percentage of passengers who survived in C.A. 33595: 100.00%\n",
      "Percentage of passengers who survived in C.A. 34050: 0.00%\n",
      "Percentage of passengers who survived in C.A. 34644: 0.00%\n",
      "Percentage of passengers who survived in C.A. 34651: 100.00%\n",
      "Percentage of passengers who survived in C.A. 37671: 100.00%\n",
      "Percentage of passengers who survived in C.A. 42795: 0.00%\n",
      "Percentage of passengers who survived in C.A. 49867: 0.00%\n",
      "Percentage of passengers who survived in C.A. 6212: 0.00%\n",
      "Percentage of passengers who survived in CA 2144: 50.00%\n",
      "Percentage of passengers who survived in CA 31352: 50.00%\n",
      "Percentage of passengers who survived in CA. 2343: 50.00%\n",
      "Percentage of passengers who survived in F.C. 12750: 100.00%\n",
      "Percentage of passengers who survived in F.C. 12998: 0.00%\n",
      "Percentage of passengers who survived in F.C.C. 13528: 100.00%\n",
      "Percentage of passengers who survived in F.C.C. 13534: 100.00%\n",
      "Percentage of passengers who survived in F.C.C. 13540: 0.00%\n",
      "Percentage of passengers who survived in LP 1588: 0.00%\n",
      "Percentage of passengers who survived in PC 17483: 66.67%\n",
      "Percentage of passengers who survived in PC 17531: 100.00%\n",
      "Percentage of passengers who survived in PC 17558: 100.00%\n",
      "Percentage of passengers who survived in PC 17562: 0.00%\n",
      "Percentage of passengers who survived in PC 17569: 0.00%\n",
      "Percentage of passengers who survived in PC 17580: 0.00%\n",
      "Percentage of passengers who survived in PC 17585: 0.00%\n",
      "Percentage of passengers who survived in PC 17591: 0.00%\n",
      "Percentage of passengers who survived in PC 17592: 100.00%\n",
      "Percentage of passengers who survived in PC 17594: 0.00%\n",
      "Percentage of passengers who survived in PC 17597: 0.00%\n",
      "Percentage of passengers who survived in PC 17598: 100.00%\n",
      "Percentage of passengers who survived in PC 17599: 0.00%\n",
      "Percentage of passengers who survived in PC 17603: 0.00%\n",
      "Percentage of passengers who survived in PC 17606: 100.00%\n",
      "Percentage of passengers who survived in PC 17607: 0.00%\n",
      "Percentage of passengers who survived in PC 17608: 60.00%\n",
      "Percentage of passengers who survived in PC 17613: 100.00%\n",
      "Percentage of passengers who survived in PC 17755: 100.00%\n",
      "Percentage of passengers who survived in PC 17756: 50.00%\n",
      "Percentage of passengers who survived in PC 17757: 0.00%\n",
      "Percentage of passengers who survived in PC 17758: 100.00%\n",
      "Percentage of passengers who survived in PC 17759: 100.00%\n",
      "Percentage of passengers who survived in PC 17760: 100.00%\n",
      "Percentage of passengers who survived in PC 17761: 100.00%\n",
      "Percentage of passengers who survived in PP 9549: 100.00%\n",
      "Percentage of passengers who survived in S.C./PARIS 2079: 100.00%\n",
      "Percentage of passengers who survived in S.O./P.P. 2: 50.00%\n",
      "Percentage of passengers who survived in S.O./P.P. 251: 0.00%\n",
      "Percentage of passengers who survived in S.O./P.P. 752: 0.00%\n",
      "Percentage of passengers who survived in S.O.C. 14879: 0.00%\n",
      "Percentage of passengers who survived in SC 14888: 0.00%\n",
      "Percentage of passengers who survived in SC/A.3 2861: 0.00%\n",
      "Percentage of passengers who survived in SC/A4 23568: 0.00%\n",
      "Percentage of passengers who survived in SC/AH 29037: 100.00%\n",
      "Percentage of passengers who survived in SC/AH 3085: 0.00%\n",
      "Percentage of passengers who survived in SC/PARIS 2147: 0.00%\n",
      "Percentage of passengers who survived in SC/PARIS 2148: 100.00%\n",
      "Percentage of passengers who survived in SC/PARIS 2159: 0.00%\n",
      "Percentage of passengers who survived in SC/PARIS 2166: 0.00%\n",
      "Percentage of passengers who survived in SC/PARIS 2167: 100.00%\n",
      "Percentage of passengers who survived in SC/PARIS 2168: 0.00%\n",
      "Percentage of passengers who survived in SC/Paris 2123: 100.00%\n",
      "Percentage of passengers who survived in SOTON/O.Q. 3101262: 0.00%\n",
      "Percentage of passengers who survived in SOTON/O.Q. 3101263: 0.00%\n",
      "Percentage of passengers who survived in SOTON/O.Q. 3101308: 0.00%\n",
      "Percentage of passengers who survived in SOTON/O.Q. 3101309: 0.00%\n",
      "Percentage of passengers who survived in SOTON/O.Q. 3101314: 0.00%\n",
      "Percentage of passengers who survived in SOTON/O.Q. 3101315: 66.67%\n",
      "Percentage of passengers who survived in SOTON/O2 3101284: 0.00%\n",
      "Percentage of passengers who survived in SOTON/OQ 392083: 100.00%\n",
      "Percentage of passengers who survived in STON/O 2. 3101268: 0.00%\n",
      "Percentage of passengers who survived in STON/O 2. 3101291: 0.00%\n",
      "Percentage of passengers who survived in STON/O2. 3101270: 100.00%\n",
      "Percentage of passengers who survived in STON/OQ. 369943: 0.00%\n",
      "Percentage of passengers who survived in W./C. 14260: 0.00%\n",
      "Percentage of passengers who survived in W./C. 14266: 100.00%\n",
      "Percentage of passengers who survived in W./C. 6607: 50.00%\n",
      "Percentage of passengers who survived in W./C. 6608: 0.00%\n",
      "Percentage of passengers who survived in W.E.P. 5734: 100.00%\n"
     ]
    }
   ],
   "source": [
    "# Group the DataFrame by 'Embarked' and calculate the mean survival rate\n",
    "survival_mean_by_Embarked = df.groupby(['Ticket'])['Survived'].mean() * 100\n",
    "\n",
    "for embarked, percentage in survival_mean_by_Embarked.items():\n",
    "    print(f\"Percentage of passengers who survived in {embarked}: {percentage:.2f}%\")\n",
    "\n",
    "\n"
   ]
  },
  {
   "cell_type": "code",
   "execution_count": 33,
   "id": "d4e65640",
   "metadata": {
    "execution": {
     "iopub.execute_input": "2023-10-06T11:06:01.997040Z",
     "iopub.status.busy": "2023-10-06T11:06:01.996649Z",
     "iopub.status.idle": "2023-10-06T11:06:02.004274Z",
     "shell.execute_reply": "2023-10-06T11:06:02.003541Z"
    },
    "papermill": {
     "duration": 0.028271,
     "end_time": "2023-10-06T11:06:02.006107",
     "exception": false,
     "start_time": "2023-10-06T11:06:01.977836",
     "status": "completed"
    },
    "tags": []
   },
   "outputs": [
    {
     "name": "stdout",
     "output_type": "stream",
     "text": [
      "Percentage of passengers who survived in 0: 29.41%\n",
      "Percentage of passengers who survived in 1: 21.95%\n",
      "Percentage of passengers who survived in 2: 39.76%\n",
      "Percentage of passengers who survived in 3: 38.10%\n",
      "Percentage of passengers who survived in 4: 52.38%\n"
     ]
    }
   ],
   "source": [
    "# Group the DataFrame by 'Fare' and calculate the mean survival rate\n",
    "survival_mean_by_Fare = df.groupby(['Fare'])['Survived'].mean() * 100\n",
    "\n",
    "for fare, percentage in survival_mean_by_Fare.items():\n",
    "    print(f\"Percentage of passengers who survived in {fare}: {percentage:.2f}%\")\n"
   ]
  },
  {
   "cell_type": "code",
   "execution_count": 34,
   "id": "20da15a2",
   "metadata": {
    "execution": {
     "iopub.execute_input": "2023-10-06T11:06:02.051245Z",
     "iopub.status.busy": "2023-10-06T11:06:02.050591Z",
     "iopub.status.idle": "2023-10-06T11:06:02.058466Z",
     "shell.execute_reply": "2023-10-06T11:06:02.057563Z"
    },
    "papermill": {
     "duration": 0.034401,
     "end_time": "2023-10-06T11:06:02.060530",
     "exception": false,
     "start_time": "2023-10-06T11:06:02.026129",
     "status": "completed"
    },
    "tags": []
   },
   "outputs": [
    {
     "name": "stdout",
     "output_type": "stream",
     "text": [
      "Percentage of passengers who survived in 0: 36.63%\n",
      "Percentage of passengers who survived in 1: 33.33%\n",
      "Percentage of passengers who survived in 2: 35.80%\n",
      "Percentage of passengers who survived in 3: 35.56%\n",
      "Percentage of passengers who survived in 42: 11.11%\n",
      "Percentage of passengers who survived in 43: 16.67%\n",
      "Percentage of passengers who survived in 44: 0.00%\n",
      "Percentage of passengers who survived in 45: 77.78%\n",
      "Percentage of passengers who survived in 46: 0.00%\n",
      "Percentage of passengers who survived in 47: 40.00%\n",
      "Percentage of passengers who survived in 48: 80.00%\n",
      "Percentage of passengers who survived in 49: 0.00%\n",
      "Percentage of passengers who survived in 50: 20.00%\n",
      "Percentage of passengers who survived in 51: 100.00%\n",
      "Percentage of passengers who survived in 53: 33.33%\n",
      "Percentage of passengers who survived in 54: 50.00%\n",
      "Percentage of passengers who survived in 55: 50.00%\n",
      "Percentage of passengers who survived in 57: 0.00%\n",
      "Percentage of passengers who survived in 58: 100.00%\n",
      "Percentage of passengers who survived in 59: 100.00%\n",
      "Percentage of passengers who survived in 60: 75.00%\n",
      "Percentage of passengers who survived in 61: 0.00%\n",
      "Percentage of passengers who survived in 62: 0.00%\n",
      "Percentage of passengers who survived in 63: 50.00%\n",
      "Percentage of passengers who survived in 64: 66.67%\n",
      "Percentage of passengers who survived in 67: 0.00%\n",
      "Percentage of passengers who survived in 76: 100.00%\n"
     ]
    }
   ],
   "source": [
    "# Group the DataFrame by 'Age' and calculate the mean survival rate\n",
    "survival_mean_by_Age = df.groupby(['Age'])['Survived'].mean() * 100\n",
    "\n",
    "for age, percentage in survival_mean_by_Age.items():\n",
    "    print(f\"Percentage of passengers who survived in {age}: {percentage:.2f}%\")\n",
    "\n",
    "\n"
   ]
  },
  {
   "cell_type": "markdown",
   "id": "7c5c5f6a",
   "metadata": {
    "papermill": {
     "duration": 0.016814,
     "end_time": "2023-10-06T11:06:02.101266",
     "exception": false,
     "start_time": "2023-10-06T11:06:02.084452",
     "status": "completed"
    },
    "tags": []
   },
   "source": [
    "<div style=\"text-align: center;\">\n",
    "  <h2>📈 Data Visualization</h2>\n",
    "</div>"
   ]
  },
  {
   "cell_type": "code",
   "execution_count": 35,
   "id": "e1921896",
   "metadata": {
    "execution": {
     "iopub.execute_input": "2023-10-06T11:06:02.136436Z",
     "iopub.status.busy": "2023-10-06T11:06:02.135982Z",
     "iopub.status.idle": "2023-10-06T11:06:02.680337Z",
     "shell.execute_reply": "2023-10-06T11:06:02.679038Z"
    },
    "papermill": {
     "duration": 0.565101,
     "end_time": "2023-10-06T11:06:02.682977",
     "exception": false,
     "start_time": "2023-10-06T11:06:02.117876",
     "status": "completed"
    },
    "tags": []
   },
   "outputs": [
    {
     "data": {
      "image/png": "[encoded data removed]",
      "text/plain": [
       "<Figure size 1000x600 with 2 Axes>"
      ]
     },
     "metadata": {},
     "output_type": "display_data"
    }
   ],
   "source": [
    "plt.figure(figsize=[10, 6])  # Adjust the figure size as needed\n",
    "sns.heatmap(df.select_dtypes(include=['number']).corr(), annot=True, cmap='coolwarm')\n",
    "plt.show()\n"
   ]
  },
  {
   "cell_type": "code",
   "execution_count": 36,
   "id": "f6975277",
   "metadata": {
    "execution": {
     "iopub.execute_input": "2023-10-06T11:06:02.730048Z",
     "iopub.status.busy": "2023-10-06T11:06:02.729373Z",
     "iopub.status.idle": "2023-10-06T11:06:02.735607Z",
     "shell.execute_reply": "2023-10-06T11:06:02.734262Z"
    },
    "papermill": {
     "duration": 0.033633,
     "end_time": "2023-10-06T11:06:02.738373",
     "exception": false,
     "start_time": "2023-10-06T11:06:02.704740",
     "status": "completed"
    },
    "tags": []
   },
   "outputs": [],
   "source": [
    "sns.set()"
   ]
  },
  {
   "cell_type": "code",
   "execution_count": 37,
   "id": "829671ae",
   "metadata": {
    "execution": {
     "iopub.execute_input": "2023-10-06T11:06:02.778104Z",
     "iopub.status.busy": "2023-10-06T11:06:02.777332Z",
     "iopub.status.idle": "2023-10-06T11:06:02.931617Z",
     "shell.execute_reply": "2023-10-06T11:06:02.930405Z"
    },
    "papermill": {
     "duration": 0.176728,
     "end_time": "2023-10-06T11:06:02.934059",
     "exception": false,
     "start_time": "2023-10-06T11:06:02.757331",
     "status": "completed"
    },
    "tags": []
   },
   "outputs": [
    {
     "data": {
      "image/png": "[encoded data removed]",
      "text/plain": [
       "<Figure size 640x480 with 1 Axes>"
      ]
     },
     "metadata": {},
     "output_type": "display_data"
    }
   ],
   "source": [
    "custom_palette = {0: 'Blue', 1: 'Gold'}\n",
    "\n",
    "sns.countplot(x='Survived', data=df, palette=custom_palette)\n",
    "\n",
    "plt.xlabel('Survived')\n",
    "plt.ylabel('Outcome')\n",
    "\n",
    "plt.text(0, df['Survived'].value_counts()[0], '0 = Not Survived', ha='center' ,fontsize=10)\n",
    "plt.text(1, df['Survived'].value_counts()[1], '1 = Survived', ha='center' ,fontsize=10)\n",
    "\n",
    "plt.show()\n"
   ]
  },
  {
   "cell_type": "code",
   "execution_count": 38,
   "id": "a74ce2dd",
   "metadata": {
    "execution": {
     "iopub.execute_input": "2023-10-06T11:06:02.974021Z",
     "iopub.status.busy": "2023-10-06T11:06:02.973289Z",
     "iopub.status.idle": "2023-10-06T11:06:03.574081Z",
     "shell.execute_reply": "2023-10-06T11:06:03.572907Z"
    },
    "papermill": {
     "duration": 0.623631,
     "end_time": "2023-10-06T11:06:03.576630",
     "exception": false,
     "start_time": "2023-10-06T11:06:02.952999",
     "status": "completed"
    },
    "tags": []
   },
   "outputs": [
    {
     "name": "stderr",
     "output_type": "stream",
     "text": [
      "/tmp/ipykernel_20/3556318222.py:2: UserWarning: \n",
      "\n",
      "`distplot` is a deprecated function and will be removed in seaborn v0.14.0.\n",
      "\n",
      "Please adapt your code to use either `displot` (a figure-level function with\n",
      "similar flexibility) or `histplot` (an axes-level function for histograms).\n",
      "\n",
      "For a guide to updating your code to use the new functions, please see\n",
      "https://gist.github.com/mwaskom/de44147ed2974457ad6372750bbe5751\n",
      "\n",
      "  sns.distplot(df['Age'][df['Survived'] == 0], label=\"Not Survived\" , color = 'Blue')\n",
      "/tmp/ipykernel_20/3556318222.py:4: UserWarning: \n",
      "\n",
      "`distplot` is a deprecated function and will be removed in seaborn v0.14.0.\n",
      "\n",
      "Please adapt your code to use either `displot` (a figure-level function with\n",
      "similar flexibility) or `histplot` (an axes-level function for histograms).\n",
      "\n",
      "For a guide to updating your code to use the new functions, please see\n",
      "https://gist.github.com/mwaskom/de44147ed2974457ad6372750bbe5751\n",
      "\n",
      "  sns.distplot(df['Age'][df['Survived'] == 1], label=\"Survived\" ,  color = 'Gold')\n"
     ]
    },
    {
     "data": {
      "image/png": "[encoded data removed]",
      "text/plain": [
       "<Figure size 640x480 with 1 Axes>"
      ]
     },
     "metadata": {},
     "output_type": "display_data"
    }
   ],
   "source": [
    "# Distribution plot for 'Age' \n",
    "sns.distplot(df['Age'][df['Survived'] == 0], label=\"Not Survived\" , color = 'Blue')\n",
    "\n",
    "sns.distplot(df['Age'][df['Survived'] == 1], label=\"Survived\" ,  color = 'Gold')\n",
    "\n",
    "plt.xlabel('Age')\n",
    "plt.ylabel('Density') \n",
    "\n",
    "plt.legend()\n",
    "plt.show()\n"
   ]
  },
  {
   "cell_type": "code",
   "execution_count": 39,
   "id": "7030eaef",
   "metadata": {
    "execution": {
     "iopub.execute_input": "2023-10-06T11:06:03.618371Z",
     "iopub.status.busy": "2023-10-06T11:06:03.617990Z",
     "iopub.status.idle": "2023-10-06T11:06:04.134500Z",
     "shell.execute_reply": "2023-10-06T11:06:04.133582Z"
    },
    "papermill": {
     "duration": 0.540199,
     "end_time": "2023-10-06T11:06:04.136799",
     "exception": false,
     "start_time": "2023-10-06T11:06:03.596600",
     "status": "completed"
    },
    "tags": []
   },
   "outputs": [
    {
     "name": "stderr",
     "output_type": "stream",
     "text": [
      "/tmp/ipykernel_20/1291904824.py:2: UserWarning: \n",
      "\n",
      "`distplot` is a deprecated function and will be removed in seaborn v0.14.0.\n",
      "\n",
      "Please adapt your code to use either `displot` (a figure-level function with\n",
      "similar flexibility) or `histplot` (an axes-level function for histograms).\n",
      "\n",
      "For a guide to updating your code to use the new functions, please see\n",
      "https://gist.github.com/mwaskom/de44147ed2974457ad6372750bbe5751\n",
      "\n",
      "  sns.distplot(df['Pclass'][df['Survived'] == 0], label=\"Not Survived\" , color = 'Blue')\n",
      "/tmp/ipykernel_20/1291904824.py:4: UserWarning: \n",
      "\n",
      "`distplot` is a deprecated function and will be removed in seaborn v0.14.0.\n",
      "\n",
      "Please adapt your code to use either `displot` (a figure-level function with\n",
      "similar flexibility) or `histplot` (an axes-level function for histograms).\n",
      "\n",
      "For a guide to updating your code to use the new functions, please see\n",
      "https://gist.github.com/mwaskom/de44147ed2974457ad6372750bbe5751\n",
      "\n",
      "  sns.distplot(df['Pclass'][df['Survived'] == 1], label=\"Survived\" ,  color = 'Gold')\n"
     ]
    },
    {
     "data": {
      "image/png": "[encoded data removed]",
      "text/plain": [
       "<Figure size 640x480 with 1 Axes>"
      ]
     },
     "metadata": {},
     "output_type": "display_data"
    }
   ],
   "source": [
    "#Distribution plot for 'Pclass'\n",
    "sns.distplot(df['Pclass'][df['Survived'] == 0], label=\"Not Survived\" , color = 'Blue')\n",
    "\n",
    "sns.distplot(df['Pclass'][df['Survived'] == 1], label=\"Survived\" ,  color = 'Gold')\n",
    "\n",
    "plt.xlabel('Pclass')\n",
    "plt.ylabel('Density') \n",
    "\n",
    "plt.legend()\n",
    "\n",
    "plt.show()"
   ]
  },
  {
   "cell_type": "code",
   "execution_count": 40,
   "id": "6e53524d",
   "metadata": {
    "execution": {
     "iopub.execute_input": "2023-10-06T11:06:04.181331Z",
     "iopub.status.busy": "2023-10-06T11:06:04.180867Z",
     "iopub.status.idle": "2023-10-06T11:06:04.643559Z",
     "shell.execute_reply": "2023-10-06T11:06:04.642700Z"
    },
    "papermill": {
     "duration": 0.487487,
     "end_time": "2023-10-06T11:06:04.645703",
     "exception": false,
     "start_time": "2023-10-06T11:06:04.158216",
     "status": "completed"
    },
    "tags": []
   },
   "outputs": [
    {
     "name": "stderr",
     "output_type": "stream",
     "text": [
      "/tmp/ipykernel_20/3434530098.py:2: UserWarning: \n",
      "\n",
      "`distplot` is a deprecated function and will be removed in seaborn v0.14.0.\n",
      "\n",
      "Please adapt your code to use either `displot` (a figure-level function with\n",
      "similar flexibility) or `histplot` (an axes-level function for histograms).\n",
      "\n",
      "For a guide to updating your code to use the new functions, please see\n",
      "https://gist.github.com/mwaskom/de44147ed2974457ad6372750bbe5751\n",
      "\n",
      "  sns.distplot(df['SibSp'][df['Survived'] == 0], label=\"Not Survived\" , color = 'Blue')\n",
      "/tmp/ipykernel_20/3434530098.py:4: UserWarning: \n",
      "\n",
      "`distplot` is a deprecated function and will be removed in seaborn v0.14.0.\n",
      "\n",
      "Please adapt your code to use either `displot` (a figure-level function with\n",
      "similar flexibility) or `histplot` (an axes-level function for histograms).\n",
      "\n",
      "For a guide to updating your code to use the new functions, please see\n",
      "https://gist.github.com/mwaskom/de44147ed2974457ad6372750bbe5751\n",
      "\n",
      "  sns.distplot(df['SibSp'][df['Survived'] == 1], label=\"Survived\" ,  color = 'Gold')\n"
     ]
    },
    {
     "data": {
      "image/png": "[encoded data removed]",
      "text/plain": [
       "<Figure size 640x480 with 1 Axes>"
      ]
     },
     "metadata": {},
     "output_type": "display_data"
    }
   ],
   "source": [
    "# Distribution plot for 'SibSp'\n",
    "sns.distplot(df['SibSp'][df['Survived'] == 0], label=\"Not Survived\" , color = 'Blue')\n",
    "\n",
    "sns.distplot(df['SibSp'][df['Survived'] == 1], label=\"Survived\" ,  color = 'Gold')\n",
    "\n",
    "plt.xlabel('SibSp')\n",
    "plt.ylabel('Density')  \n",
    "\n",
    "plt.legend()\n",
    "\n",
    "plt.show()"
   ]
  },
  {
   "cell_type": "code",
   "execution_count": 41,
   "id": "86730d29",
   "metadata": {
    "execution": {
     "iopub.execute_input": "2023-10-06T11:06:04.689402Z",
     "iopub.status.busy": "2023-10-06T11:06:04.688939Z",
     "iopub.status.idle": "2023-10-06T11:06:05.273698Z",
     "shell.execute_reply": "2023-10-06T11:06:05.272487Z"
    },
    "papermill": {
     "duration": 0.609436,
     "end_time": "2023-10-06T11:06:05.275838",
     "exception": false,
     "start_time": "2023-10-06T11:06:04.666402",
     "status": "completed"
    },
    "tags": []
   },
   "outputs": [
    {
     "name": "stderr",
     "output_type": "stream",
     "text": [
      "/tmp/ipykernel_20/3978801799.py:2: UserWarning: \n",
      "\n",
      "`distplot` is a deprecated function and will be removed in seaborn v0.14.0.\n",
      "\n",
      "Please adapt your code to use either `displot` (a figure-level function with\n",
      "similar flexibility) or `histplot` (an axes-level function for histograms).\n",
      "\n",
      "For a guide to updating your code to use the new functions, please see\n",
      "https://gist.github.com/mwaskom/de44147ed2974457ad6372750bbe5751\n",
      "\n",
      "  sns.distplot(df['Parch'][df['Survived'] == 0], label=\"Not Survived\" , color = 'Blue')\n",
      "/tmp/ipykernel_20/3978801799.py:4: UserWarning: \n",
      "\n",
      "`distplot` is a deprecated function and will be removed in seaborn v0.14.0.\n",
      "\n",
      "Please adapt your code to use either `displot` (a figure-level function with\n",
      "similar flexibility) or `histplot` (an axes-level function for histograms).\n",
      "\n",
      "For a guide to updating your code to use the new functions, please see\n",
      "https://gist.github.com/mwaskom/de44147ed2974457ad6372750bbe5751\n",
      "\n",
      "  sns.distplot(df['Parch'][df['Survived'] == 1], label=\"Survived\" ,  color = 'Gold')\n"
     ]
    },
    {
     "data": {
      "image/png": "[encoded data removed]",
      "text/plain": [
       "<Figure size 640x480 with 1 Axes>"
      ]
     },
     "metadata": {},
     "output_type": "display_data"
    }
   ],
   "source": [
    "# Distribution plot for 'Parch' \n",
    "sns.distplot(df['Parch'][df['Survived'] == 0], label=\"Not Survived\" , color = 'Blue')\n",
    "\n",
    "sns.distplot(df['Parch'][df['Survived'] == 1], label=\"Survived\" ,  color = 'Gold')\n",
    "\n",
    "plt.xlabel('Parch')\n",
    "plt.ylabel('Density')  \n",
    "\n",
    "plt.legend()\n",
    "\n",
    "plt.show()"
   ]
  },
  {
   "cell_type": "code",
   "execution_count": 42,
   "id": "bf6851a4",
   "metadata": {
    "execution": {
     "iopub.execute_input": "2023-10-06T11:06:05.324382Z",
     "iopub.status.busy": "2023-10-06T11:06:05.323417Z",
     "iopub.status.idle": "2023-10-06T11:06:05.742434Z",
     "shell.execute_reply": "2023-10-06T11:06:05.741586Z"
    },
    "papermill": {
     "duration": 0.445656,
     "end_time": "2023-10-06T11:06:05.744655",
     "exception": false,
     "start_time": "2023-10-06T11:06:05.298999",
     "status": "completed"
    },
    "tags": []
   },
   "outputs": [
    {
     "name": "stderr",
     "output_type": "stream",
     "text": [
      "/tmp/ipykernel_20/3744509326.py:2: UserWarning: \n",
      "\n",
      "`distplot` is a deprecated function and will be removed in seaborn v0.14.0.\n",
      "\n",
      "Please adapt your code to use either `displot` (a figure-level function with\n",
      "similar flexibility) or `histplot` (an axes-level function for histograms).\n",
      "\n",
      "For a guide to updating your code to use the new functions, please see\n",
      "https://gist.github.com/mwaskom/de44147ed2974457ad6372750bbe5751\n",
      "\n",
      "  sns.distplot(df['Fare'][df['Survived'] == 0], label=\"Not Survived\" , color = 'Blue')\n",
      "/tmp/ipykernel_20/3744509326.py:5: UserWarning: \n",
      "\n",
      "`distplot` is a deprecated function and will be removed in seaborn v0.14.0.\n",
      "\n",
      "Please adapt your code to use either `displot` (a figure-level function with\n",
      "similar flexibility) or `histplot` (an axes-level function for histograms).\n",
      "\n",
      "For a guide to updating your code to use the new functions, please see\n",
      "https://gist.github.com/mwaskom/de44147ed2974457ad6372750bbe5751\n",
      "\n",
      "  sns.distplot(df['Fare'][df['Survived'] == 1], label=\"Survived\" ,  color = 'Gold')\n"
     ]
    },
    {
     "data": {
      "image/png": "[encoded data removed]",
      "text/plain": [
       "<Figure size 640x480 with 1 Axes>"
      ]
     },
     "metadata": {},
     "output_type": "display_data"
    }
   ],
   "source": [
    "# Distribution plot for 'Fare'\n",
    "sns.distplot(df['Fare'][df['Survived'] == 0], label=\"Not Survived\" , color = 'Blue')\n",
    "\n",
    "# Create a distribution plot for 'Age' when 'Survived' is 1 and label it as \"Survived\"\n",
    "sns.distplot(df['Fare'][df['Survived'] == 1], label=\"Survived\" ,  color = 'Gold')\n",
    "\n",
    "# Add labels to the x and y axes\n",
    "plt.xlabel('Fare')\n",
    "plt.ylabel('Density')  # You can change this label as needed\n",
    "\n",
    "# Add a legend to differentiate between \"Not Survived\" and \"Survived\"\n",
    "plt.legend()\n",
    "\n",
    "# Show the plots\n",
    "plt.show()"
   ]
  },
  {
   "cell_type": "code",
   "execution_count": 43,
   "id": "9370664c",
   "metadata": {
    "execution": {
     "iopub.execute_input": "2023-10-06T11:06:05.792631Z",
     "iopub.status.busy": "2023-10-06T11:06:05.791784Z",
     "iopub.status.idle": "2023-10-06T11:06:06.036084Z",
     "shell.execute_reply": "2023-10-06T11:06:06.034808Z"
    },
    "papermill": {
     "duration": 0.270653,
     "end_time": "2023-10-06T11:06:06.038302",
     "exception": false,
     "start_time": "2023-10-06T11:06:05.767649",
     "status": "completed"
    },
    "tags": []
   },
   "outputs": [
    {
     "data": {
      "image/png": "[encoded data removed]",
      "text/plain": [
       "<Figure size 700x400 with 1 Axes>"
      ]
     },
     "metadata": {},
     "output_type": "display_data"
    }
   ],
   "source": [
    "# Count plot for 'Sex' \n",
    "plt.figure(figsize=(7, 4))\n",
    "custom_palette = {0: \"Blue\", 1: \"Gold\"}  \n",
    "sns.countplot(x='Sex', hue='Survived', data=df, palette=custom_palette)\n",
    "\n",
    "plt.xlabel('Gender (0: Male, 1: Female)')  \n",
    "plt.ylabel('Density')\n",
    "\n",
    "plt.legend(title='Survival', labels=['Not Survived', 'Survived'])\n",
    "\n",
    "plt.show()\n"
   ]
  },
  {
   "cell_type": "code",
   "execution_count": 44,
   "id": "020a5e52",
   "metadata": {
    "execution": {
     "iopub.execute_input": "2023-10-06T11:06:06.086429Z",
     "iopub.status.busy": "2023-10-06T11:06:06.086030Z",
     "iopub.status.idle": "2023-10-06T11:06:06.607785Z",
     "shell.execute_reply": "2023-10-06T11:06:06.606819Z"
    },
    "papermill": {
     "duration": 0.548174,
     "end_time": "2023-10-06T11:06:06.609988",
     "exception": false,
     "start_time": "2023-10-06T11:06:06.061814",
     "status": "completed"
    },
    "scrolled": true,
    "tags": []
   },
   "outputs": [
    {
     "name": "stderr",
     "output_type": "stream",
     "text": [
      "/opt/conda/lib/python3.10/site-packages/seaborn/axisgrid.py:118: UserWarning: The figure layout has changed to tight\n",
      "  self._figure.tight_layout(*args, **kwargs)\n"
     ]
    },
    {
     "data": {
      "image/png": "[encoded data removed]",
      "text/plain": [
       "<Figure size 585.222x500 with 1 Axes>"
      ]
     },
     "metadata": {},
     "output_type": "display_data"
    }
   ],
   "source": [
    "#Categorical plot (catplot) for 'Embarked' vs. 'Survived'\n",
    "g = sns.catplot(data=df, x='Embarked', hue='Survived', kind='count', palette={0: 'Blue', 1: 'Gold'})\n",
    "\n",
    "g.set_axis_labels('Embarked', 'Density')\n",
    "plt.show()\n",
    "\n"
   ]
  },
  {
   "cell_type": "markdown",
   "id": "cacdc356",
   "metadata": {
    "papermill": {
     "duration": 0.023045,
     "end_time": "2023-10-06T11:06:06.656566",
     "exception": false,
     "start_time": "2023-10-06T11:06:06.633521",
     "status": "completed"
    },
    "tags": []
   },
   "source": [
    "<div style=\"text-align: center;\">\n",
    "  <h2>🗑️ Drop Unnecessary Columns</h2>\n",
    "</div>\n"
   ]
  },
  {
   "cell_type": "code",
   "execution_count": 45,
   "id": "aabe688d",
   "metadata": {
    "execution": {
     "iopub.execute_input": "2023-10-06T11:06:06.705398Z",
     "iopub.status.busy": "2023-10-06T11:06:06.704658Z",
     "iopub.status.idle": "2023-10-06T11:06:06.709978Z",
     "shell.execute_reply": "2023-10-06T11:06:06.709238Z"
    },
    "papermill": {
     "duration": 0.031847,
     "end_time": "2023-10-06T11:06:06.711857",
     "exception": false,
     "start_time": "2023-10-06T11:06:06.680010",
     "status": "completed"
    },
    "tags": []
   },
   "outputs": [],
   "source": [
    "# now drop unexeassary column\n",
    "df.drop(columns=['Ticket'],inplace=True)"
   ]
  },
  {
   "cell_type": "code",
   "execution_count": 46,
   "id": "4fdd8f8f",
   "metadata": {
    "execution": {
     "iopub.execute_input": "2023-10-06T11:06:06.761568Z",
     "iopub.status.busy": "2023-10-06T11:06:06.760545Z",
     "iopub.status.idle": "2023-10-06T11:06:06.766450Z",
     "shell.execute_reply": "2023-10-06T11:06:06.765537Z"
    },
    "papermill": {
     "duration": 0.032622,
     "end_time": "2023-10-06T11:06:06.768483",
     "exception": false,
     "start_time": "2023-10-06T11:06:06.735861",
     "status": "completed"
    },
    "tags": []
   },
   "outputs": [],
   "source": [
    "df.drop(columns=['Name'],inplace=True)"
   ]
  },
  {
   "cell_type": "code",
   "execution_count": 47,
   "id": "2c988727",
   "metadata": {
    "execution": {
     "iopub.execute_input": "2023-10-06T11:06:06.818513Z",
     "iopub.status.busy": "2023-10-06T11:06:06.818121Z",
     "iopub.status.idle": "2023-10-06T11:06:06.829258Z",
     "shell.execute_reply": "2023-10-06T11:06:06.828090Z"
    },
    "papermill": {
     "duration": 0.039491,
     "end_time": "2023-10-06T11:06:06.831180",
     "exception": false,
     "start_time": "2023-10-06T11:06:06.791689",
     "status": "completed"
    },
    "tags": []
   },
   "outputs": [
    {
     "data": {
      "text/html": [
       "<div>\n",
       "<style scoped>\n",
       "    .dataframe tbody tr th:only-of-type {\n",
       "        vertical-align: middle;\n",
       "    }\n",
       "\n",
       "    .dataframe tbody tr th {\n",
       "        vertical-align: top;\n",
       "    }\n",
       "\n",
       "    .dataframe thead th {\n",
       "        text-align: right;\n",
       "    }\n",
       "</style>\n",
       "<table border=\"1\" class=\"dataframe\">\n",
       "  <thead>\n",
       "    <tr style=\"text-align: right;\">\n",
       "      <th></th>\n",
       "      <th>PassengerId</th>\n",
       "      <th>Survived</th>\n",
       "      <th>Pclass</th>\n",
       "      <th>Sex</th>\n",
       "      <th>Age</th>\n",
       "      <th>SibSp</th>\n",
       "      <th>Parch</th>\n",
       "      <th>Fare</th>\n",
       "      <th>Embarked</th>\n",
       "    </tr>\n",
       "  </thead>\n",
       "  <tbody>\n",
       "    <tr>\n",
       "      <th>0</th>\n",
       "      <td>892</td>\n",
       "      <td>0</td>\n",
       "      <td>3</td>\n",
       "      <td>0</td>\n",
       "      <td>3</td>\n",
       "      <td>0</td>\n",
       "      <td>0</td>\n",
       "      <td>1</td>\n",
       "      <td>1</td>\n",
       "    </tr>\n",
       "    <tr>\n",
       "      <th>1</th>\n",
       "      <td>893</td>\n",
       "      <td>1</td>\n",
       "      <td>3</td>\n",
       "      <td>1</td>\n",
       "      <td>47</td>\n",
       "      <td>1</td>\n",
       "      <td>0</td>\n",
       "      <td>0</td>\n",
       "      <td>2</td>\n",
       "    </tr>\n",
       "  </tbody>\n",
       "</table>\n",
       "</div>"
      ],
      "text/plain": [
       "   PassengerId  Survived  Pclass  Sex  Age  SibSp  Parch  Fare  Embarked\n",
       "0          892         0       3    0    3      0      0     1         1\n",
       "1          893         1       3    1   47      1      0     0         2"
      ]
     },
     "execution_count": 47,
     "metadata": {},
     "output_type": "execute_result"
    }
   ],
   "source": [
    "df.head(2)"
   ]
  },
  {
   "cell_type": "code",
   "execution_count": 48,
   "id": "b8f90cca",
   "metadata": {
    "execution": {
     "iopub.execute_input": "2023-10-06T11:06:06.881133Z",
     "iopub.status.busy": "2023-10-06T11:06:06.879959Z",
     "iopub.status.idle": "2023-10-06T11:06:06.891669Z",
     "shell.execute_reply": "2023-10-06T11:06:06.890725Z"
    },
    "papermill": {
     "duration": 0.038314,
     "end_time": "2023-10-06T11:06:06.893612",
     "exception": false,
     "start_time": "2023-10-06T11:06:06.855298",
     "status": "completed"
    },
    "tags": []
   },
   "outputs": [
    {
     "name": "stdout",
     "output_type": "stream",
     "text": [
      "<class 'pandas.core.frame.DataFrame'>\n",
      "RangeIndex: 418 entries, 0 to 417\n",
      "Data columns (total 9 columns):\n",
      " #   Column       Non-Null Count  Dtype\n",
      "---  ------       --------------  -----\n",
      " 0   PassengerId  418 non-null    int64\n",
      " 1   Survived     418 non-null    int64\n",
      " 2   Pclass       418 non-null    int64\n",
      " 3   Sex          418 non-null    int64\n",
      " 4   Age          418 non-null    int64\n",
      " 5   SibSp        418 non-null    int64\n",
      " 6   Parch        418 non-null    int64\n",
      " 7   Fare         418 non-null    int64\n",
      " 8   Embarked     418 non-null    int64\n",
      "dtypes: int64(9)\n",
      "memory usage: 29.5 KB\n"
     ]
    }
   ],
   "source": [
    "df.info()"
   ]
  },
  {
   "cell_type": "code",
   "execution_count": 49,
   "id": "fdd3ccbb",
   "metadata": {
    "execution": {
     "iopub.execute_input": "2023-10-06T11:06:06.943430Z",
     "iopub.status.busy": "2023-10-06T11:06:06.942151Z",
     "iopub.status.idle": "2023-10-06T11:06:06.958224Z",
     "shell.execute_reply": "2023-10-06T11:06:06.957398Z"
    },
    "papermill": {
     "duration": 0.043178,
     "end_time": "2023-10-06T11:06:06.960251",
     "exception": false,
     "start_time": "2023-10-06T11:06:06.917073",
     "status": "completed"
    },
    "tags": []
   },
   "outputs": [
    {
     "data": {
      "text/html": [
       "<div>\n",
       "<style scoped>\n",
       "    .dataframe tbody tr th:only-of-type {\n",
       "        vertical-align: middle;\n",
       "    }\n",
       "\n",
       "    .dataframe tbody tr th {\n",
       "        vertical-align: top;\n",
       "    }\n",
       "\n",
       "    .dataframe thead th {\n",
       "        text-align: right;\n",
       "    }\n",
       "</style>\n",
       "<table border=\"1\" class=\"dataframe\">\n",
       "  <thead>\n",
       "    <tr style=\"text-align: right;\">\n",
       "      <th></th>\n",
       "      <th>PassengerId</th>\n",
       "      <th>Survived</th>\n",
       "      <th>Pclass</th>\n",
       "      <th>Sex</th>\n",
       "      <th>Age</th>\n",
       "      <th>SibSp</th>\n",
       "      <th>Parch</th>\n",
       "      <th>Fare</th>\n",
       "      <th>Embarked</th>\n",
       "    </tr>\n",
       "  </thead>\n",
       "  <tbody>\n",
       "    <tr>\n",
       "      <th>0</th>\n",
       "      <td>False</td>\n",
       "      <td>False</td>\n",
       "      <td>False</td>\n",
       "      <td>False</td>\n",
       "      <td>False</td>\n",
       "      <td>False</td>\n",
       "      <td>False</td>\n",
       "      <td>False</td>\n",
       "      <td>False</td>\n",
       "    </tr>\n",
       "    <tr>\n",
       "      <th>1</th>\n",
       "      <td>False</td>\n",
       "      <td>False</td>\n",
       "      <td>False</td>\n",
       "      <td>False</td>\n",
       "      <td>False</td>\n",
       "      <td>False</td>\n",
       "      <td>False</td>\n",
       "      <td>False</td>\n",
       "      <td>False</td>\n",
       "    </tr>\n",
       "    <tr>\n",
       "      <th>2</th>\n",
       "      <td>False</td>\n",
       "      <td>False</td>\n",
       "      <td>False</td>\n",
       "      <td>False</td>\n",
       "      <td>False</td>\n",
       "      <td>False</td>\n",
       "      <td>False</td>\n",
       "      <td>False</td>\n",
       "      <td>False</td>\n",
       "    </tr>\n",
       "    <tr>\n",
       "      <th>3</th>\n",
       "      <td>False</td>\n",
       "      <td>False</td>\n",
       "      <td>False</td>\n",
       "      <td>False</td>\n",
       "      <td>False</td>\n",
       "      <td>False</td>\n",
       "      <td>False</td>\n",
       "      <td>False</td>\n",
       "      <td>False</td>\n",
       "    </tr>\n",
       "    <tr>\n",
       "      <th>4</th>\n",
       "      <td>False</td>\n",
       "      <td>False</td>\n",
       "      <td>False</td>\n",
       "      <td>False</td>\n",
       "      <td>False</td>\n",
       "      <td>False</td>\n",
       "      <td>False</td>\n",
       "      <td>False</td>\n",
       "      <td>False</td>\n",
       "    </tr>\n",
       "    <tr>\n",
       "      <th>...</th>\n",
       "      <td>...</td>\n",
       "      <td>...</td>\n",
       "      <td>...</td>\n",
       "      <td>...</td>\n",
       "      <td>...</td>\n",
       "      <td>...</td>\n",
       "      <td>...</td>\n",
       "      <td>...</td>\n",
       "      <td>...</td>\n",
       "    </tr>\n",
       "    <tr>\n",
       "      <th>413</th>\n",
       "      <td>False</td>\n",
       "      <td>False</td>\n",
       "      <td>False</td>\n",
       "      <td>False</td>\n",
       "      <td>False</td>\n",
       "      <td>False</td>\n",
       "      <td>False</td>\n",
       "      <td>False</td>\n",
       "      <td>False</td>\n",
       "    </tr>\n",
       "    <tr>\n",
       "      <th>414</th>\n",
       "      <td>False</td>\n",
       "      <td>False</td>\n",
       "      <td>False</td>\n",
       "      <td>False</td>\n",
       "      <td>False</td>\n",
       "      <td>False</td>\n",
       "      <td>False</td>\n",
       "      <td>False</td>\n",
       "      <td>False</td>\n",
       "    </tr>\n",
       "    <tr>\n",
       "      <th>415</th>\n",
       "      <td>False</td>\n",
       "      <td>False</td>\n",
       "      <td>False</td>\n",
       "      <td>False</td>\n",
       "      <td>False</td>\n",
       "      <td>False</td>\n",
       "      <td>False</td>\n",
       "      <td>False</td>\n",
       "      <td>False</td>\n",
       "    </tr>\n",
       "    <tr>\n",
       "      <th>416</th>\n",
       "      <td>False</td>\n",
       "      <td>False</td>\n",
       "      <td>False</td>\n",
       "      <td>False</td>\n",
       "      <td>False</td>\n",
       "      <td>False</td>\n",
       "      <td>False</td>\n",
       "      <td>False</td>\n",
       "      <td>False</td>\n",
       "    </tr>\n",
       "    <tr>\n",
       "      <th>417</th>\n",
       "      <td>False</td>\n",
       "      <td>False</td>\n",
       "      <td>False</td>\n",
       "      <td>False</td>\n",
       "      <td>False</td>\n",
       "      <td>False</td>\n",
       "      <td>False</td>\n",
       "      <td>False</td>\n",
       "      <td>False</td>\n",
       "    </tr>\n",
       "  </tbody>\n",
       "</table>\n",
       "<p>418 rows × 9 columns</p>\n",
       "</div>"
      ],
      "text/plain": [
       "     PassengerId  Survived  Pclass    Sex    Age  SibSp  Parch   Fare  \\\n",
       "0          False     False   False  False  False  False  False  False   \n",
       "1          False     False   False  False  False  False  False  False   \n",
       "2          False     False   False  False  False  False  False  False   \n",
       "3          False     False   False  False  False  False  False  False   \n",
       "4          False     False   False  False  False  False  False  False   \n",
       "..           ...       ...     ...    ...    ...    ...    ...    ...   \n",
       "413        False     False   False  False  False  False  False  False   \n",
       "414        False     False   False  False  False  False  False  False   \n",
       "415        False     False   False  False  False  False  False  False   \n",
       "416        False     False   False  False  False  False  False  False   \n",
       "417        False     False   False  False  False  False  False  False   \n",
       "\n",
       "     Embarked  \n",
       "0       False  \n",
       "1       False  \n",
       "2       False  \n",
       "3       False  \n",
       "4       False  \n",
       "..        ...  \n",
       "413     False  \n",
       "414     False  \n",
       "415     False  \n",
       "416     False  \n",
       "417     False  \n",
       "\n",
       "[418 rows x 9 columns]"
      ]
     },
     "execution_count": 49,
     "metadata": {},
     "output_type": "execute_result"
    }
   ],
   "source": [
    " df.isnull()"
   ]
  },
  {
   "cell_type": "markdown",
   "id": "2ab3659f",
   "metadata": {
    "papermill": {
     "duration": 0.023733,
     "end_time": "2023-10-06T11:06:07.008077",
     "exception": false,
     "start_time": "2023-10-06T11:06:06.984344",
     "status": "completed"
    },
    "tags": []
   },
   "source": [
    "<div style=\"text-align: center;\">\n",
    "  <h2>🔀 Data Splitting</h2>\n",
    "</div>"
   ]
  },
  {
   "cell_type": "code",
   "execution_count": 50,
   "id": "5f8eeadd",
   "metadata": {
    "execution": {
     "iopub.execute_input": "2023-10-06T11:06:07.058716Z",
     "iopub.status.busy": "2023-10-06T11:06:07.057712Z",
     "iopub.status.idle": "2023-10-06T11:06:07.063504Z",
     "shell.execute_reply": "2023-10-06T11:06:07.062408Z"
    },
    "papermill": {
     "duration": 0.033388,
     "end_time": "2023-10-06T11:06:07.065851",
     "exception": false,
     "start_time": "2023-10-06T11:06:07.032463",
     "status": "completed"
    },
    "tags": []
   },
   "outputs": [],
   "source": [
    "\n",
    "X_train = df.drop(['Survived', 'PassengerId'], axis=1)\n",
    "Y_train = df['Survived']\n"
   ]
  },
  {
   "cell_type": "code",
   "execution_count": 51,
   "id": "369123db",
   "metadata": {
    "execution": {
     "iopub.execute_input": "2023-10-06T11:06:07.117046Z",
     "iopub.status.busy": "2023-10-06T11:06:07.116675Z",
     "iopub.status.idle": "2023-10-06T11:06:07.122526Z",
     "shell.execute_reply": "2023-10-06T11:06:07.121251Z"
    },
    "papermill": {
     "duration": 0.034291,
     "end_time": "2023-10-06T11:06:07.124843",
     "exception": false,
     "start_time": "2023-10-06T11:06:07.090552",
     "status": "completed"
    },
    "tags": []
   },
   "outputs": [],
   "source": [
    "X_test =df.drop(['PassengerId' , 'Survived'] , axis = 1)"
   ]
  },
  {
   "cell_type": "markdown",
   "id": "e8f3a629",
   "metadata": {
    "papermill": {
     "duration": 0.024184,
     "end_time": "2023-10-06T11:06:07.173614",
     "exception": false,
     "start_time": "2023-10-06T11:06:07.149430",
     "status": "completed"
    },
    "tags": []
   },
   "source": [
    "<div style=\"text-align: center;\">\n",
    "  <h2>🛠️ Model Building</h2>\n",
    "</div>\n",
    "\n",
    "Predicting Titanic survival is a classic Binary Classification problem where the goal is to determine whether a passenger survived (1) or did not survive (0) based on various features.Several machine learning models can be used for this task, including Logistic regression,SVM,KNN classifier,Gaussian Naive Bayes,Ridge Classifier."
   ]
  },
  {
   "cell_type": "code",
   "execution_count": 52,
   "id": "dbe291ba",
   "metadata": {
    "execution": {
     "iopub.execute_input": "2023-10-06T11:06:07.224777Z",
     "iopub.status.busy": "2023-10-06T11:06:07.224425Z",
     "iopub.status.idle": "2023-10-06T11:06:07.249902Z",
     "shell.execute_reply": "2023-10-06T11:06:07.248498Z"
    },
    "papermill": {
     "duration": 0.053898,
     "end_time": "2023-10-06T11:06:07.252035",
     "exception": false,
     "start_time": "2023-10-06T11:06:07.198137",
     "status": "completed"
    },
    "tags": []
   },
   "outputs": [
    {
     "name": "stdout",
     "output_type": "stream",
     "text": [
      "Logistic Classifier Accuracy: 100.0 %\n"
     ]
    }
   ],
   "source": [
    "# Create an Logistic Classifier\n",
    "logistic_classifier = LogisticRegression(random_state=0)\n",
    "logistic_classifier.fit(X_train, Y_train)\n",
    "accuracy = logistic_classifier.score(X_train, Y_train)\n",
    "acc = round(accuracy * 100, 2)\n",
    "print(\"Logistic Classifier Accuracy:\" , acc,\"%\")"
   ]
  },
  {
   "cell_type": "code",
   "execution_count": 53,
   "id": "07a3b9a7",
   "metadata": {
    "execution": {
     "iopub.execute_input": "2023-10-06T11:06:07.303617Z",
     "iopub.status.busy": "2023-10-06T11:06:07.303156Z",
     "iopub.status.idle": "2023-10-06T11:06:07.330064Z",
     "shell.execute_reply": "2023-10-06T11:06:07.328516Z"
    },
    "papermill": {
     "duration": 0.056011,
     "end_time": "2023-10-06T11:06:07.332699",
     "exception": false,
     "start_time": "2023-10-06T11:06:07.276688",
     "status": "completed"
    },
    "tags": []
   },
   "outputs": [
    {
     "name": "stdout",
     "output_type": "stream",
     "text": [
      "SVM Classifier Accuracy: 63.64 %\n"
     ]
    }
   ],
   "source": [
    "# Create an SVM classifier\n",
    "svc_classifier = SVC()\n",
    "\n",
    "# Fit the classifier to your training data\n",
    "svc_classifier.fit(X_train, Y_train)\n",
    "svcacc= svc_classifier.score(X_train, Y_train)\n",
    "accuracy_svm = round(svcacc * 100, 2)\n",
    "print(\"SVM Classifier Accuracy:\", accuracy_svm,\"%\")\n"
   ]
  },
  {
   "cell_type": "code",
   "execution_count": 54,
   "id": "873c45f4",
   "metadata": {
    "execution": {
     "iopub.execute_input": "2023-10-06T11:06:07.383900Z",
     "iopub.status.busy": "2023-10-06T11:06:07.382776Z",
     "iopub.status.idle": "2023-10-06T11:06:07.394102Z",
     "shell.execute_reply": "2023-10-06T11:06:07.393250Z"
    },
    "papermill": {
     "duration": 0.03948,
     "end_time": "2023-10-06T11:06:07.396323",
     "exception": false,
     "start_time": "2023-10-06T11:06:07.356843",
     "status": "completed"
    },
    "tags": []
   },
   "outputs": [
    {
     "name": "stdout",
     "output_type": "stream",
     "text": [
      "Gaussian Naive Bayes Classifier Accuracy: 100.0 %\n"
     ]
    }
   ],
   "source": [
    "# Create a Gaussian Naive Bayes classifier\n",
    "gnb_classifier = GaussianNB()\n",
    "gnb_classifier.fit(X_train, Y_train)\n",
    "gnb_acc = gnb_classifier.score(X_train, Y_train)\n",
    "accuracy_gnb = round(gnb_acc * 100, 2)\n",
    "\n",
    "print(\"Gaussian Naive Bayes Classifier Accuracy:\", accuracy_gnb,\"%\")\n"
   ]
  },
  {
   "cell_type": "code",
   "execution_count": 55,
   "id": "42dc8e26",
   "metadata": {
    "execution": {
     "iopub.execute_input": "2023-10-06T11:06:07.447256Z",
     "iopub.status.busy": "2023-10-06T11:06:07.446089Z",
     "iopub.status.idle": "2023-10-06T11:06:07.474008Z",
     "shell.execute_reply": "2023-10-06T11:06:07.472932Z"
    },
    "papermill": {
     "duration": 0.055935,
     "end_time": "2023-10-06T11:06:07.476405",
     "exception": false,
     "start_time": "2023-10-06T11:06:07.420470",
     "status": "completed"
    },
    "tags": []
   },
   "outputs": [
    {
     "name": "stdout",
     "output_type": "stream",
     "text": [
      "Ridge Classifier Accuracy: 100.0 %\n"
     ]
    }
   ],
   "source": [
    "# Create a Ridge Classifier\n",
    "ridge_classifier = RidgeClassifier()\n",
    "\n",
    "ridge_classifier.fit(X_train, Y_train)\n",
    "ridge_acc = ridge_classifier.score(X_train, Y_train)\n",
    "accuracy_ridge = round(ridge_acc * 100, 2)\n",
    "\n",
    "print(\"Ridge Classifier Accuracy:\", accuracy_ridge,\"%\")\n"
   ]
  },
  {
   "cell_type": "code",
   "execution_count": 56,
   "id": "b3a4d030",
   "metadata": {
    "execution": {
     "iopub.execute_input": "2023-10-06T11:06:07.527998Z",
     "iopub.status.busy": "2023-10-06T11:06:07.527627Z",
     "iopub.status.idle": "2023-10-06T11:06:07.563773Z",
     "shell.execute_reply": "2023-10-06T11:06:07.562785Z"
    },
    "papermill": {
     "duration": 0.064674,
     "end_time": "2023-10-06T11:06:07.566020",
     "exception": false,
     "start_time": "2023-10-06T11:06:07.501346",
     "status": "completed"
    },
    "tags": []
   },
   "outputs": [
    {
     "name": "stdout",
     "output_type": "stream",
     "text": [
      "K-Nearest Neighbors Classifier Accuracy: 93.78 %\n"
     ]
    }
   ],
   "source": [
    "\n",
    "# Create a KNN classifier\n",
    "knn_classifier = KNeighborsClassifier()\n",
    "\n",
    "knn_classifier.fit(X_train, Y_train)\n",
    "knn_acc = knn_classifier.score(X_train, Y_train)\n",
    "accuracy_knn = round(knn_acc * 100, 2)\n",
    "\n",
    "print(\"K-Nearest Neighbors Classifier Accuracy:\", accuracy_knn,\"%\")\n"
   ]
  },
  {
   "cell_type": "markdown",
   "id": "96adc1f2",
   "metadata": {
    "papermill": {
     "duration": 0.024708,
     "end_time": "2023-10-06T11:06:07.615115",
     "exception": false,
     "start_time": "2023-10-06T11:06:07.590407",
     "status": "completed"
    },
    "tags": []
   },
   "source": [
    "<div style=\"text-align: center;\">\n",
    "  <h2>🎯 Generating Predictions</h2>\n",
    "</div>"
   ]
  },
  {
   "cell_type": "code",
   "execution_count": 57,
   "id": "92ef47bf",
   "metadata": {
    "execution": {
     "iopub.execute_input": "2023-10-06T11:06:07.666661Z",
     "iopub.status.busy": "2023-10-06T11:06:07.666245Z",
     "iopub.status.idle": "2023-10-06T11:06:07.672140Z",
     "shell.execute_reply": "2023-10-06T11:06:07.671425Z"
    },
    "papermill": {
     "duration": 0.034253,
     "end_time": "2023-10-06T11:06:07.674019",
     "exception": false,
     "start_time": "2023-10-06T11:06:07.639766",
     "status": "completed"
    },
    "tags": []
   },
   "outputs": [],
   "source": [
    "\n",
    "Y_pred = ridge_classifier.predict(X_test)"
   ]
  },
  {
   "cell_type": "code",
   "execution_count": 58,
   "id": "fdc60363",
   "metadata": {
    "execution": {
     "iopub.execute_input": "2023-10-06T11:06:07.724887Z",
     "iopub.status.busy": "2023-10-06T11:06:07.724150Z",
     "iopub.status.idle": "2023-10-06T11:06:07.733039Z",
     "shell.execute_reply": "2023-10-06T11:06:07.731770Z"
    },
    "papermill": {
     "duration": 0.037333,
     "end_time": "2023-10-06T11:06:07.735456",
     "exception": false,
     "start_time": "2023-10-06T11:06:07.698123",
     "status": "completed"
    },
    "tags": []
   },
   "outputs": [],
   "source": [
    "output = pd.DataFrame({'PassengerId' : df.PassengerId , 'Survived': Y_pred})\n",
    "\n",
    "output.to_csv('my_submission.csv', index=False)\n",
    "\n"
   ]
  },
  {
   "cell_type": "code",
   "execution_count": 59,
   "id": "e6267d3c",
   "metadata": {
    "execution": {
     "iopub.execute_input": "2023-10-06T11:06:07.787471Z",
     "iopub.status.busy": "2023-10-06T11:06:07.787051Z",
     "iopub.status.idle": "2023-10-06T11:06:07.924955Z",
     "shell.execute_reply": "2023-10-06T11:06:07.923493Z"
    },
    "papermill": {
     "duration": 0.168182,
     "end_time": "2023-10-06T11:06:07.928917",
     "exception": false,
     "start_time": "2023-10-06T11:06:07.760735",
     "status": "completed"
    },
    "tags": []
   },
   "outputs": [
    {
     "data": {
      "image/png": "[encoded data removed]",
      "text/plain": [
       "<Figure size 300x100 with 1 Axes>"
      ]
     },
     "metadata": {},
     "output_type": "display_data"
    },
    {
     "data": {
      "text/html": [
       "<div>\n",
       "<style scoped>\n",
       "    .dataframe tbody tr th:only-of-type {\n",
       "        vertical-align: middle;\n",
       "    }\n",
       "\n",
       "    .dataframe tbody tr th {\n",
       "        vertical-align: top;\n",
       "    }\n",
       "\n",
       "    .dataframe thead th {\n",
       "        text-align: right;\n",
       "    }\n",
       "</style>\n",
       "<table border=\"1\" class=\"dataframe\">\n",
       "  <thead>\n",
       "    <tr style=\"text-align: right;\">\n",
       "      <th></th>\n",
       "      <th>PassengerId</th>\n",
       "      <th>Survived</th>\n",
       "    </tr>\n",
       "  </thead>\n",
       "  <tbody>\n",
       "    <tr>\n",
       "      <th>0</th>\n",
       "      <td>892</td>\n",
       "      <td>0</td>\n",
       "    </tr>\n",
       "    <tr>\n",
       "      <th>1</th>\n",
       "      <td>893</td>\n",
       "      <td>1</td>\n",
       "    </tr>\n",
       "    <tr>\n",
       "      <th>2</th>\n",
       "      <td>894</td>\n",
       "      <td>0</td>\n",
       "    </tr>\n",
       "    <tr>\n",
       "      <th>3</th>\n",
       "      <td>895</td>\n",
       "      <td>0</td>\n",
       "    </tr>\n",
       "    <tr>\n",
       "      <th>4</th>\n",
       "      <td>896</td>\n",
       "      <td>1</td>\n",
       "    </tr>\n",
       "    <tr>\n",
       "      <th>...</th>\n",
       "      <td>...</td>\n",
       "      <td>...</td>\n",
       "    </tr>\n",
       "    <tr>\n",
       "      <th>413</th>\n",
       "      <td>1305</td>\n",
       "      <td>0</td>\n",
       "    </tr>\n",
       "    <tr>\n",
       "      <th>414</th>\n",
       "      <td>1306</td>\n",
       "      <td>1</td>\n",
       "    </tr>\n",
       "    <tr>\n",
       "      <th>415</th>\n",
       "      <td>1307</td>\n",
       "      <td>0</td>\n",
       "    </tr>\n",
       "    <tr>\n",
       "      <th>416</th>\n",
       "      <td>1308</td>\n",
       "      <td>0</td>\n",
       "    </tr>\n",
       "    <tr>\n",
       "      <th>417</th>\n",
       "      <td>1309</td>\n",
       "      <td>0</td>\n",
       "    </tr>\n",
       "  </tbody>\n",
       "</table>\n",
       "<p>418 rows × 2 columns</p>\n",
       "</div>"
      ],
      "text/plain": [
       "     PassengerId  Survived\n",
       "0            892         0\n",
       "1            893         1\n",
       "2            894         0\n",
       "3            895         0\n",
       "4            896         1\n",
       "..           ...       ...\n",
       "413         1305         0\n",
       "414         1306         1\n",
       "415         1307         0\n",
       "416         1308         0\n",
       "417         1309         0\n",
       "\n",
       "[418 rows x 2 columns]"
      ]
     },
     "execution_count": 59,
     "metadata": {},
     "output_type": "execute_result"
    }
   ],
   "source": [
    "plt.figure(figsize=(3, 1))\n",
    "plt.axis('off')  # Turn off axis\n",
    "plt.text(0.2, 0.5, '0 = Not Survived', fontsize=12)\n",
    "plt.text(0.9, 0.5, '1 = Survived', fontsize=12)\n",
    "plt.show()\n",
    "output"
   ]
  }
 ],
 "metadata": {
  "kernelspec": {
   "display_name": "Python 3",
   "language": "python",
   "name": "python3"
  },
  "language_info": {
   "codemirror_mode": {
    "name": "ipython",
    "version": 3
   },
   "file_extension": ".py",
   "mimetype": "text/x-python",
   "name": "python",
   "nbconvert_exporter": "python",
   "pygments_lexer": "ipython3",
   "version": "3.10.12"
  },
  "papermill": {
   "default_parameters": {},
   "duration": 15.324614,
   "end_time": "2023-10-06T11:06:08.679219",
   "environment_variables": {},
   "exception": null,
   "input_path": "__notebook__.ipynb",
   "output_path": "__notebook__.ipynb",
   "parameters": {},
   "start_time": "2023-10-06T11:05:53.354605",
   "version": "2.4.0"
  }
 },
 "nbformat": 4,
 "nbformat_minor": 5
}
